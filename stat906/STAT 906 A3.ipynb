{
 "cells": [
  {
   "cell_type": "markdown",
   "metadata": {},
   "source": [
    "<center><big><b>STAT 906 A3</b></big></center>"
   ]
  },
  {
   "cell_type": "markdown",
   "metadata": {},
   "source": [
    "##### Question 1"
   ]
  },
  {
   "cell_type": "markdown",
   "metadata": {},
   "source": [
    "##### (a)"
   ]
  },
  {
   "cell_type": "code",
   "execution_count": 18,
   "metadata": {},
   "outputs": [],
   "source": [
    "import numpy as np\n",
    "from scipy.stats.mstats import gmean\n",
    "from scipy.stats import norm"
   ]
  },
  {
   "cell_type": "code",
   "execution_count": 29,
   "metadata": {},
   "outputs": [],
   "source": [
    "def asian_theo(r, T, d, S, K, sigma):\n",
    "    a = np.log(S)+(r-0.5*sigma**2)*(d+1)*T/(2*d)\n",
    "    b = sigma**2*(T/d)*(d+1)*(2*d+1)/(6*d)\n",
    "    d1 = (-np.log(K)+a+b)/np.sqrt(b)\n",
    "    d2 = d1-np.sqrt(b)\n",
    "    return np.exp(-r*T)*(np.exp(a+0.5*b)*norm.cdf(d1)-K*norm.cdf(d2))\n",
    "\n",
    "def beta_pilot(r, T, sigma, S, K, s, n):\n",
    "    delta = T/s\n",
    "    S_t = np.zeros((n, s+1))\n",
    "    S_t[:,0] = S  \n",
    "    for i in range(s):       # simulate the stock price\n",
    "        S_t[:,(i+1)] = S_t[:,i]*np.exp((r-sigma**2/2)*delta+sigma*np.sqrt(delta)*np.random.normal(0,1,n))\n",
    "    payoff_ath = np.mean(S_t[:,1:], axis=1) - K   \n",
    "    payoff_ath = np.exp(-r*T)*np.where(payoff_ath > 0, payoff_ath, 0)     \n",
    "    payoff_geo = gmean(S_t[:,1:], axis=1) - K\n",
    "    payoff_geo = np.exp(-r*T)*np.where(payoff_geo > 0, payoff_geo, 0)\n",
    "    cov_mat = np.cov(np.vstack((payoff_ath, payoff_geo)), bias=False)\n",
    "    return cov_mat[1,0]/cov_mat[1,1]\n",
    "    \n",
    "def asian_cv_pilot(r, T, sigma, S, K, s, n, n_pilot):\n",
    "    delta = T/s\n",
    "    S_t = np.zeros((n, s+1))\n",
    "    S_t[:,0] = S  \n",
    "    for i in range(s):       # simulate the stock price\n",
    "        S_t[:,(i+1)] = S_t[:,i]*np.exp((r-sigma**2/2)*delta+sigma*np.sqrt(delta)*np.random.normal(0,1,n))\n",
    "    payoff_ath = np.mean(S_t[:,1:], axis=1) - K   \n",
    "    payoff_ath = np.exp(-r*T)*np.where(payoff_ath > 0, payoff_ath, 0)     \n",
    "    payoff_geo = gmean(S_t[:,1:], axis=1) - K\n",
    "    payoff_geo = np.exp(-r*T)*np.where(payoff_geo > 0, payoff_geo, 0)\n",
    "    beta = beta_pilot(r, T, sigma, S, K, s, n_pilot)\n",
    "    C = asian_theo(r, T, s, S, K, sigma)\n",
    "    mu_cv = payoff_ath + beta*(C - payoff_geo)\n",
    "    asian_mean = np.mean(mu_cv)\n",
    "    asian_var = np.var(mu_cv, ddof=1)\n",
    "    hw = norm.ppf(0.975)*np.sqrt(asian_var/n)\n",
    "    return [asian_mean, asian_mean - hw, asian_mean + hw, hw]"
   ]
  },
  {
   "cell_type": "code",
   "execution_count": 30,
   "metadata": {},
   "outputs": [
    {
     "data": {
      "text/plain": [
       "[7.572543648291707, 7.567629800415124, 7.57745749616829, 0.0049138478765831]"
      ]
     },
     "execution_count": 30,
     "metadata": {},
     "output_type": "execute_result"
    }
   ],
   "source": [
    "asian_cv_pilot(0.04, 1, 0.35, 50, 45, 10, 24000, 1000)"
   ]
  },
  {
   "cell_type": "markdown",
   "metadata": {},
   "source": [
    "##### (b)"
   ]
  },
  {
   "cell_type": "code",
   "execution_count": 24,
   "metadata": {},
   "outputs": [],
   "source": [
    "def asian_cv(r, T, sigma, S, K, s, n, m):\n",
    "    delta = T/s\n",
    "    S_t = np.zeros((n, s+1))\n",
    "    S_t[:,0] = S  \n",
    "    mu_cv = np.zeros(m)\n",
    "    C = asian_theo(r, T, s, S, K, sigma)\n",
    "    for j in range(m):\n",
    "        for i in range(s):       # simulate the stock price\n",
    "            S_t[:,(i+1)] = S_t[:,i]*np.exp((r-sigma**2/2)*delta+sigma*np.sqrt(delta)*np.random.normal(0,1,n))\n",
    "        payoff_ath = np.mean(S_t[:,1:], axis=1) - K   \n",
    "        payoff_ath = np.exp(-r*T)*np.where(payoff_ath > 0, payoff_ath, 0)     \n",
    "        payoff_geo = gmean(S_t[:,1:], axis=1) - K\n",
    "        payoff_geo = np.exp(-r*T)*np.where(payoff_geo > 0, payoff_geo, 0)\n",
    "        cov_mat = np.cov(np.vstack((payoff_ath, payoff_geo)), bias=False)\n",
    "        beta = cov_mat[1,0]/cov_mat[1,1]\n",
    "        mu_cv[j] = np.mean(payoff_ath+beta*(C-payoff_geo))\n",
    "    asian_mean = np.mean(mu_cv)\n",
    "    asian_var = np.var(mu_cv, ddof=1)\n",
    "    hw = norm.ppf(0.975)*np.sqrt(asian_var/m)\n",
    "    return [asian_mean, asian_mean - hw, asian_mean + hw]"
   ]
  },
  {
   "cell_type": "code",
   "execution_count": 25,
   "metadata": {},
   "outputs": [
    {
     "data": {
      "text/plain": [
       "[7.5741457414498035, 7.573661684791208, 7.574629798108399]"
      ]
     },
     "execution_count": 25,
     "metadata": {},
     "output_type": "execute_result"
    }
   ],
   "source": [
    "asian_cv(0.04, 1, 0.35, 50, 45, 10, 2400, 1000)"
   ]
  },
  {
   "cell_type": "markdown",
   "metadata": {},
   "source": [
    "##### (c)"
   ]
  },
  {
   "cell_type": "code",
   "execution_count": 31,
   "metadata": {},
   "outputs": [],
   "source": [
    "def asian_mc(r, T, sigma, S, K, s, n):\n",
    "    delta = T/s\n",
    "    S_t = np.zeros((n, s+1))\n",
    "    S_t[:,0] = S\n",
    "    for i in range(s):\n",
    "        S_t[:,(i+1)] = S_t[:,i]*np.exp((r-sigma**2/2)*delta+sigma*np.sqrt(delta)*np.random.normal(0,1,n))\n",
    "    payoff = np.mean(S_t[:,1:], axis=1) - K \n",
    "    payoff = np.exp(-r*T)*np.where(payoff > 0, payoff, 0)\n",
    "    asian_var = np.var(payoff, ddof=1)\n",
    "    hw = norm.ppf(0.975)*np.sqrt(asian_var/n)\n",
    "    return hw"
   ]
  },
  {
   "cell_type": "code",
   "execution_count": 34,
   "metadata": {},
   "outputs": [
    {
     "name": "stdout",
     "output_type": "stream",
     "text": [
      "0.9576452879525877 0.9510899140224142 0.9267625359805669\n"
     ]
    }
   ],
   "source": [
    "_, _, _, hw45_cv = asian_cv_pilot(0.04, 1, 0.35, 50, 45, 10, 24000, 1000)\n",
    "_, _, _, hw50_cv = asian_cv_pilot(0.04, 1, 0.35, 50, 50, 10, 24000, 1000)\n",
    "_, _, _, hw60_cv = asian_cv_pilot(0.04, 1, 0.35, 50, 60, 10, 24000, 1000)\n",
    "hw_45 = asian_mc(0.04, 1, 0.35, 50, 45, 10, 24000)\n",
    "hw_50 = asian_mc(0.04, 1, 0.35, 50, 50, 10, 24000)\n",
    "hw_60 = asian_mc(0.04, 1, 0.35, 50, 60, 10, 24000)\n",
    "factor_45 = 1 - hw45_cv/hw_45\n",
    "factor_50 = 1 - hw50_cv/hw_50\n",
    "factor_60 = 1 - hw60_cv/hw_60\n",
    "print(factor_45, factor_50, factor_60)"
   ]
  },
  {
   "cell_type": "markdown",
   "metadata": {},
   "source": [
    "##### Question 2"
   ]
  },
  {
   "cell_type": "markdown",
   "metadata": {},
   "source": [
    "##### (a)"
   ]
  },
  {
   "cell_type": "markdown",
   "metadata": {},
   "source": [
    "First of all , I need to simulate the stock price $S_i(t)$. To get that, I firstly need to simulte $N_i(t)$ and $W_i(t)$, $i = 1, 2, ..., n$, where $N_i(t)$s i.i.d. $\\sim Poisson(0.5)$ and $W_i(t)$s i.i.d. $\\sim Normal(0, 0.5)$. For each $i$, I simulate $Y_{ij}$ of number $N_i(t)$, where $Y_{ij}$s are i.i.d. $\\sim Gamma(2, 0.5)$, and $j = 1, 2, ..., N_i(t)$. Then I could generate the $S_i(t)$ by $S_i(t) = S(0)e^{(\\mu-\\sigma^2/2)t+\\sigma W_i(t)} \\prod_{j=1}^{N_i(t)}Y_{ij}(t)$    \n",
    "\n",
    "Let $X_{1} \\sim Bernoulli(0.75)$ and $X_{2} \\sim Bernoulli(0.2)$, and\n",
    "\n",
    "$$\\mu = E[X_{1} \\mathbb{1}_{\\{S(t)>120\\}} + X_{2} \\mathbb{1}_{\\{S(t) \\leq 120\\}}] = E[E[X_{1} \\mathbb{1}_{\\{S(t)>120\\}} + X_{2} \\mathbb{1}_{\\{S(t) \\leq 120\\}}]|S(t)=s]$$\n",
    "\n",
    "Then I let $\\hat{\\mu}$ be the Monte Carlo estimator for the probability of selling the stock at $T = 1$, and \n",
    "$$\\hat{\\mu} = \\frac{1}{n}\\sum_{i=1}^n X_{i1} \\mathbb{1}_{\\{S_i(t)>120\\}} + X_{i2} \\mathbb{1}_{\\{S_i(t) \\leq 120\\}}$$\n",
    "where $X_{i1} \\sim Bernoulli(0.75)$ and $X_{i2} \\sim Bernoulli(0.2)$ for $i = 1, 2, ..., n$.\n",
    "\n",
    "Finaly, I construct a conditional Monte Carlo estimator $\\hat{\\mu}_{cmc}$ for the probability of selling the stock at $T = 1$, and \n",
    "$$\\hat{\\mu}_{cmc} = \\frac{1}{n}\\sum_{i=1}^n E[X_{i1} \\mathbb{1}_{\\{S_i(t)>120\\}} + X_{i2} \\mathbb{1}_{\\{S_i(t) \\leq 120\\}}|S_i(t)] = \\frac{1}{n}\\sum_{i=1}^n 0.75 \\mathbb{1}_{\\{S_i(t)>120\\}} + 0.2 \\mathbb{1}_{\\{S_i(t) \\leq 120\\}}$$"
   ]
  },
  {
   "cell_type": "markdown",
   "metadata": {},
   "source": [
    "##### (b)"
   ]
  },
  {
   "cell_type": "code",
   "execution_count": 62,
   "metadata": {},
   "outputs": [],
   "source": [
    "def prob_mc(mu, sigma, a, b, Lambda, t, S, n):\n",
    "    N_t = np.random.poisson(Lambda*t, n)\n",
    "    Y = np.ones(n)\n",
    "    for i in range(n):\n",
    "        Y[i] = np.prod(np.random.gamma(a,b,N_t[i]))\n",
    "    S_t = S*np.exp((mu-sigma**2/2)*t+np.random.normal(0,np.sqrt(t),n)*sigma)*Y  \n",
    "    X1 = np.random.binomial(1, 0.75, n)\n",
    "    X2 = np.random.binomial(1, 0.2, n)\n",
    "    p_mc = np.where(S_t > 120, X1, X2)\n",
    "    return np.mean(p_mc)"
   ]
  },
  {
   "cell_type": "code",
   "execution_count": 63,
   "metadata": {},
   "outputs": [],
   "source": [
    "def prob_cmc(mu, sigma, a, b, Lambda, t, S, n):\n",
    "    N_t = np.random.poisson(Lambda*t, n)\n",
    "    Y = np.ones(n)\n",
    "    for i in range(n):\n",
    "        Y[i] = np.prod(np.random.gamma(a,b,N_t[i]))\n",
    "    S_t = S*np.exp((mu-sigma**2/2)*t+np.random.normal(0,np.sqrt(t),n)*sigma)*Y  \n",
    "    p_cmc = np.where(S_t > 120, 0.75, 0.2)\n",
    "    return np.mean(p_cmc)"
   ]
  },
  {
   "cell_type": "code",
   "execution_count": 68,
   "metadata": {},
   "outputs": [
    {
     "name": "stdout",
     "output_type": "stream",
     "text": [
      "0.34300000000000014 0.379\n"
     ]
    }
   ],
   "source": [
    "p_cmc = prob_cmc(0.07, 0.3, 2, 0.5, 1, 0.5, 100, 1000)\n",
    "p_mc = prob_mc(0.07, 0.3, 2, 0.5, 1, 0.5, 100, 1000)\n",
    "print(p_cmc, p_mc)"
   ]
  },
  {
   "cell_type": "markdown",
   "metadata": {},
   "source": [
    "##### Question 3"
   ]
  },
  {
   "cell_type": "code",
   "execution_count": 122,
   "metadata": {},
   "outputs": [],
   "source": [
    "def put_str(mu, sigma, a, b, Lambda, t, S, K, n):\n",
    "    p1 = np.exp(-Lambda*t)\n",
    "    p2 = np.exp(-Lambda*t)*(Lambda*t)\n",
    "    p3 = 1 - p1 - p2\n",
    "    N_1 = int(n*p1)\n",
    "    N_2 = int(n*p2)\n",
    "    N_3 = np.max(n-N_1-N_2, 0)\n",
    "    N_t = np.zeros(n, dtype=int)\n",
    "    N_t[:N_1] = 0\n",
    "    N_t[N_1:(N_1+N_2)] = 1\n",
    "    Y = np.ones(n)\n",
    "    for j in range(N_1+N_2, N_1+N_2+N_3):\n",
    "        while True:\n",
    "            temp = np.random.poisson(Lambda*t)\n",
    "            if temp >= 2:\n",
    "                N_t[j] = temp\n",
    "                break;\n",
    "    for i in range(n):\n",
    "        Y[i] = np.prod(np.random.gamma(a,b,N_t[i]))\n",
    "    S_t = S*np.exp((mu-sigma**2/2)*t+np.random.normal(0,np.sqrt(t),n)*sigma)*Y \n",
    "    payoff = np.exp(-mu*t)*np.where(K-S_t>0, K-S_t, 0)\n",
    "    mu_1 = np.mean(payoff[:N_1])\n",
    "    mu_2 = np.mean(payoff[N_1:(N_1+N_2)])\n",
    "    mu_3 = np.mean(payoff[(N_1+N_2):(N_1+N_2+N_3)])\n",
    "    mu = p1*mu_1 + p2*mu_2 + p3*mu_3\n",
    "    hw = norm.ppf(0.975)*np.sqrt(np.var(payoff, ddof=1)/n)\n",
    "    return [mu, hw]"
   ]
  },
  {
   "cell_type": "code",
   "execution_count": 123,
   "metadata": {},
   "outputs": [
    {
     "data": {
      "text/plain": [
       "[27.944130714225246, 1.7920225294349243]"
      ]
     },
     "execution_count": 123,
     "metadata": {},
     "output_type": "execute_result"
    }
   ],
   "source": [
    "put_str(0.07, 0.3, 2, 0.5, 1, 0.5, 100, 120, 1000)"
   ]
  },
  {
   "cell_type": "code",
   "execution_count": 124,
   "metadata": {},
   "outputs": [],
   "source": [
    "def put_mc(mu, sigma, a, b, Lambda, t, S, K, n):\n",
    "    N_t = np.random.poisson(Lambda*t, n)\n",
    "    Y = np.ones(n)\n",
    "    for i in range(n):\n",
    "        Y[i] = np.prod(np.random.gamma(a,b,N_t[i]))\n",
    "    S_t = S*np.exp((mu-sigma**2/2)*t+np.random.normal(0,np.sqrt(t),n)*sigma)*Y  \n",
    "    payoff = np.exp(-mu*t)*np.where(K-S_t>0, K-S_t, 0)\n",
    "    payoff_mean = np.mean(payoff)\n",
    "    hw = norm.ppf(0.975)*np.sqrt(np.var(payoff, ddof=1)/n)\n",
    "    return [payoff_mean, hw]"
   ]
  },
  {
   "cell_type": "code",
   "execution_count": 125,
   "metadata": {},
   "outputs": [
    {
     "data": {
      "text/plain": [
       "[28.176616339911458, 1.7455988321159706]"
      ]
     },
     "execution_count": 125,
     "metadata": {},
     "output_type": "execute_result"
    }
   ],
   "source": [
    "put_mc(0.07, 0.3, 2, 0.5, 1, 0.5, 100, 120, 1000)"
   ]
  },
  {
   "cell_type": "markdown",
   "metadata": {},
   "source": [
    "##### Question 4"
   ]
  },
  {
   "cell_type": "code",
   "execution_count": 192,
   "metadata": {},
   "outputs": [],
   "source": [
    "def asian_put_mc(r, T, sigma, s, S, K, n):\n",
    "    delta = T/s\n",
    "    S_t = np.zeros((n, s+1))\n",
    "    S_t[:,0] = S\n",
    "    for i in range(s):\n",
    "        S_t[:,(i+1)] = S_t[:,i]*np.exp((r-sigma**2/2)*delta+sigma*np.sqrt(delta)*np.random.normal(0,1,n))\n",
    "    payoff = K - np.mean(S_t[:,1:], axis=1)\n",
    "    payoff = np.exp(-r*T)*np.where(payoff > 0, payoff, 0)\n",
    "    C = np.mean(payoff)\n",
    "    hw = norm.ppf(0.975)*np.sqrt(np.var(payoff, ddof=1)/n)\n",
    "    return [C, C-hw, C+hw]"
   ]
  },
  {
   "cell_type": "code",
   "execution_count": 193,
   "metadata": {},
   "outputs": [
    {
     "data": {
      "text/plain": [
       "[1.7000328337197839, 1.6344865146419074, 1.7655791527976603]"
      ]
     },
     "execution_count": 193,
     "metadata": {},
     "output_type": "execute_result"
    }
   ],
   "source": [
    "asian_put_mc(0.04, 1, 0.35, 10, 50, 45, 10000)"
   ]
  },
  {
   "cell_type": "code",
   "execution_count": 161,
   "metadata": {},
   "outputs": [],
   "source": [
    "def asian_put_is(r, T, sigma, s, S, K, n):\n",
    "    delta = T/s\n",
    "    S_t = np.zeros((n, s+1))\n",
    "    L = np.zeros((n, s))\n",
    "    S_t[:,0] = S\n",
    "    for i in range(s):\n",
    "        z = np.random.normal(0,1,n)\n",
    "        S_t[:,(i+1)] = S_t[:,i]*np.exp((r-0.03-sigma**2/2)*delta+sigma*(z*np.sqrt(delta)))\n",
    "        L[:,i] = np.exp(2*0.03*delta*z+(-0.03*delta)**2)                             \n",
    "    payoff = K - np.mean(S_t[:,1:], axis=1)\n",
    "    payoff = np.exp(-r*T)*np.where(payoff > 0, payoff, 0)*np.prod(L, axis=1)\n",
    "    C = np.mean(payoff)\n",
    "    hw = norm.ppf(0.975)*np.sqrt(np.var(payoff, ddof=1)/n)\n",
    "    return [C, C-hw, C+hw]"
   ]
  },
  {
   "cell_type": "code",
   "execution_count": 162,
   "metadata": {},
   "outputs": [
    {
     "data": {
      "text/plain": [
       "[1.8208858241973227, 1.1662294564120144, 2.475542191982631]"
      ]
     },
     "execution_count": 162,
     "metadata": {},
     "output_type": "execute_result"
    }
   ],
   "source": [
    "asian_put_is(0.04, 1, 0.35, 10, 50, 45, 100)"
   ]
  },
  {
   "cell_type": "markdown",
   "metadata": {},
   "source": [
    "##### (c)"
   ]
  },
  {
   "cell_type": "code",
   "execution_count": null,
   "metadata": {},
   "outputs": [],
   "source": [
    "def asian_put_is(r, T, sigma, s, S, K, n):\n",
    "    delta = T/s\n",
    "    S_t = np.zeros((n, s+1))\n",
    "    L = np.zeros((n, s))\n",
    "    S_t[:,0] = S\n",
    "    for i in range(s):\n",
    "        z = np.random.normal(0,1,n)\n",
    "        S_t[:,(i+1)] = S_t[:,i]*np.exp((r-sigma**2/2)*delta+sigma*(z*np.sqrt(delta)-0.03*delta))\n",
    "        L[:,i] = np.exp(0.03*delta*z+(-0.03*delta)**2/2)                             \n",
    "    payoff = K - np.mean(S_t[:,1:], axis=1)\n",
    "    payoff = np.exp(-r*T)*np.where(payoff > 0, payoff, 0)*np.prod(L, axis=1)\n",
    "    C = np.mean(payoff)\n",
    "    hw = norm.ppf(0.975)*np.sqrt(np.var(payoff, ddof=1)/n)\n",
    "    return [C, C-hw, C+hw]"
   ]
  },
  {
   "cell_type": "markdown",
   "metadata": {},
   "source": [
    "##### Question 5"
   ]
  },
  {
   "cell_type": "markdown",
   "metadata": {},
   "source": [
    "For naive Monte Carlo method, we have   \n",
    "\n",
    "$\n",
    "\\begin{split}\n",
    "Var(\\hat{\\mu}_{mc}) \n",
    "&= Var(\\frac{1}{n}\\sum_{i=1}^{n} h(X_i)) \\\\\n",
    "&= \\frac{1}{n^2} \\sum_{i=1}^{n} Var(h(X_i)) \\\\\n",
    "&= \\frac{1}{n} Var(h(X))\n",
    "\\end{split}\n",
    "$\n",
    "\n",
    "For estimator using stratification with proportional allocation, we have \n",
    "\n",
    "$\n",
    "\\begin{split}\n",
    "Var(\\hat{\\mu}_{str})\n",
    "&= Var(\\sum_{j=1}^m p_j \\frac{1}{N_j} \\sum_{i=1}^{N_j} h(X_{j,i})) \\\\\n",
    "&= \\sum_{j=1}^m Var(p_j \\frac{1}{np_j} \\sum_{i=1}^{np_j} h(X_{j,i})) \\\\\n",
    "&= \\sum_{j=1}^m \\frac{1}{n^2} \\sum_{i=1}^{np_j} Var(h(X_{j,i})) \\\\ \n",
    "&= \\frac{1}{n} \\sum_{j=1}^m p_j Var(E[h(X)|W\\in S_j]) \\\\\n",
    "\\end{split}\n",
    "$\n",
    "\n",
    "Since $Var(h(X)) = Var(E[E[h(X)|W\\in S_j]]) + E[Var(h(X)|W\\in S_j)]$ holds for any $j = 1, 2, ..., m$, then we have $Var(E[h(X)|W\\in S_j]) \\leq Var(h(X))$ holds for any $j = 1, 2, ..., m$. Note that $Var(h(X)|W\\in S_j) \\geq 0$ for any $j = 1, 2, ..., m$. Therefore,\n",
    "\n",
    "$\n",
    "\\begin{split}\n",
    "Var(\\hat{\\mu}_{str})\n",
    "& \\leq \\frac{1}{n} \\sum_{j=1}^m p_j Var(h(X)) \\\\\n",
    "&= \\frac{1}{n} Var(h(X)) \\sum_{j=1}^m p_j \\\\\n",
    "&= \\frac{1}{n} Var(h(X)) \\\\\n",
    "&= Var(\\hat{\\mu}_{mc})\n",
    "\\end{split}\n",
    "$\n",
    "\n",
    "So we can conclude that estimator using stratification with proportional allocation has a variance no larger than that of naive Monte Carlo estimator. The equality holds when $Var(h(X)|W\\in S_j) = 0$ for any $j = 1, 2, ..., m$"
   ]
  },
  {
   "cell_type": "markdown",
   "metadata": {},
   "source": [
    "##### Question 6"
   ]
  },
  {
   "cell_type": "markdown",
   "metadata": {},
   "source": [
    "##### (a)"
   ]
  },
  {
   "cell_type": "code",
   "execution_count": 170,
   "metadata": {},
   "outputs": [],
   "source": [
    "def Delta(r, T, sigma, h, S, K, n):\n",
    "    z = np.exp((r-sigma**2/2)*T+sigma*np.random.normal(0,np.sqrt(T),n))\n",
    "    payoff = S*z - K\n",
    "    price = np.exp(-r*T)*np.where(payoff > 0, payoff, 0)\n",
    "    payoff_h = (S+h)*z - K\n",
    "    price_h = np.exp(-r*T)*np.where(payoff_h > 0, payoff_h, 0)\n",
    "    delta = (price_h - price)/h\n",
    "    delta_mean = np.mean(delta)\n",
    "    hw = norm.ppf(0.975)*np.sqrt(np.var(delta, ddof=1)/n)  \n",
    "    return [delta_mean, delta_mean-hw, delta_mean+hw]   "
   ]
  },
  {
   "cell_type": "code",
   "execution_count": 171,
   "metadata": {},
   "outputs": [
    {
     "data": {
      "text/plain": [
       "[0.7622742236897467, 0.7514661693114317, 0.7730822780680617]"
      ]
     },
     "execution_count": 171,
     "metadata": {},
     "output_type": "execute_result"
    }
   ],
   "source": [
    "Delta(0.04, 1, 0.25, 1, 100, 90, 10000)"
   ]
  },
  {
   "cell_type": "markdown",
   "metadata": {},
   "source": [
    "##### (b)"
   ]
  },
  {
   "cell_type": "code",
   "execution_count": 168,
   "metadata": {},
   "outputs": [],
   "source": [
    "def Delta_ind(r, T, sigma, h, S, K, n):\n",
    "    S_t = S*np.exp((r-sigma**2/2)*T+sigma*np.random.normal(0,np.sqrt(T),n))\n",
    "    payoff = S_t - K\n",
    "    price = np.exp(-r*T)*np.where(payoff > 0, payoff, 0)\n",
    "    S_t_h = (S+h)*np.exp((r-sigma**2/2)*T+sigma*np.random.normal(0,np.sqrt(T),n))\n",
    "    payoff_h = S_t_h - K\n",
    "    price_h = np.exp(-r*T)*np.where(payoff_h > 0, payoff_h, 0)\n",
    "    delta = (price_h - price)/h\n",
    "    delta_mean = np.mean(delta)\n",
    "    hw = norm.ppf(0.975)*np.sqrt(np.var(delta, ddof=1)/n)  \n",
    "    return [delta_mean, delta_mean-hw, delta_mean+hw]  "
   ]
  },
  {
   "cell_type": "code",
   "execution_count": 174,
   "metadata": {},
   "outputs": [
    {
     "data": {
      "text/plain": [
       "[0.6030370859647095, 0.015906596239594784, 1.1901675756898242]"
      ]
     },
     "execution_count": 174,
     "metadata": {},
     "output_type": "execute_result"
    }
   ],
   "source": [
    "Delta_ind(0.04, 1, 0.25, 1, 100, 90, 10000)"
   ]
  },
  {
   "cell_type": "markdown",
   "metadata": {},
   "source": [
    "##### (c)"
   ]
  },
  {
   "cell_type": "code",
   "execution_count": 175,
   "metadata": {},
   "outputs": [],
   "source": [
    "from scipy.stats import norm"
   ]
  },
  {
   "cell_type": "code",
   "execution_count": 177,
   "metadata": {},
   "outputs": [],
   "source": [
    "def Delta_theo(r, T, sigma, S, K):\n",
    "    d1 = (np.log(S/K)+(r+sigma**2/2)*T)/(sigma*np.sqrt(T))\n",
    "    return norm.cdf(d1)"
   ]
  },
  {
   "cell_type": "code",
   "execution_count": 178,
   "metadata": {},
   "outputs": [
    {
     "data": {
      "text/plain": [
       "0.7600433646090563"
      ]
     },
     "execution_count": 178,
     "metadata": {},
     "output_type": "execute_result"
    }
   ],
   "source": [
    "Delta_theo(0.04, 1, 0.25, 100, 90)"
   ]
  },
  {
   "cell_type": "markdown",
   "metadata": {},
   "source": [
    "##### (d)"
   ]
  },
  {
   "cell_type": "code",
   "execution_count": 179,
   "metadata": {},
   "outputs": [
    {
     "data": {
      "text/plain": [
       "[0.7609687748765028, 0.7501123038482689, 0.7718252459047368]"
      ]
     },
     "execution_count": 179,
     "metadata": {},
     "output_type": "execute_result"
    }
   ],
   "source": [
    "Delta(0.04, 1, 0.25, 0.1, 100, 90, 10000)"
   ]
  },
  {
   "cell_type": "code",
   "execution_count": 182,
   "metadata": {},
   "outputs": [
    {
     "data": {
      "text/plain": [
       "[0.7606308510655381, 0.7497311456833352, 0.7715305564477409]"
      ]
     },
     "execution_count": 182,
     "metadata": {},
     "output_type": "execute_result"
    }
   ],
   "source": [
    "Delta(0.04, 1, 0.25, 0.01, 100, 90, 10000)"
   ]
  },
  {
   "cell_type": "code",
   "execution_count": 188,
   "metadata": {},
   "outputs": [
    {
     "data": {
      "text/plain": [
       "[-0.586859154885877, -6.454122304735633, 5.280403994963879]"
      ]
     },
     "execution_count": 188,
     "metadata": {},
     "output_type": "execute_result"
    }
   ],
   "source": [
    "Delta_ind(0.04, 1, 0.25, 0.1, 100, 90, 10000)"
   ]
  },
  {
   "cell_type": "code",
   "execution_count": 191,
   "metadata": {},
   "outputs": [
    {
     "data": {
      "text/plain": [
       "[23.0785703997818, -35.70117992991861, 81.8583207294822]"
      ]
     },
     "execution_count": 191,
     "metadata": {},
     "output_type": "execute_result"
    }
   ],
   "source": [
    "Delta_ind(0.04, 1, 0.25, 0.01, 100, 90, 10000)"
   ]
  },
  {
   "cell_type": "code",
   "execution_count": null,
   "metadata": {},
   "outputs": [],
   "source": []
  }
 ],
 "metadata": {
  "kernelspec": {
   "display_name": "Python 3 (ipykernel)",
   "language": "python",
   "name": "python3"
  },
  "language_info": {
   "codemirror_mode": {
    "name": "ipython",
    "version": 3
   },
   "file_extension": ".py",
   "mimetype": "text/x-python",
   "name": "python",
   "nbconvert_exporter": "python",
   "pygments_lexer": "ipython3",
   "version": "3.7.16"
  }
 },
 "nbformat": 4,
 "nbformat_minor": 4
}
