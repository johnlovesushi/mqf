{
 "cells": [
  {
   "cell_type": "markdown",
   "metadata": {},
   "source": [
    "##### Question1 a"
   ]
  },
  {
   "cell_type": "markdown",
   "metadata": {},
   "source": [
    "In RANDU, $x_{i+1} = 65539 \\times x_{i}$ mod m, $u_i = x_i/ m$,  which $m = 2^{31}$\n",
    "\n",
    "For the serial test, I simulate $2^{15}$ samples in total with the shape $2^{14} \\times 2$ $(s = 2)$ dimensions, and considering them as two dimensional points. Then I participate the space $[0,1)^2$ into $64 = 8^2$ cells (small squares) of the same size, and count the number of 2-dimensional points in each cell ($N_j$). Finally, I build the statistic $\\chi^2 = \\sum_{j=1}^k \\frac{(N_j - r/k)^2}{r/k}$"
   ]
  },
  {
   "cell_type": "code",
   "execution_count": 265,
   "metadata": {},
   "outputs": [],
   "source": [
    "import numpy as np\n",
    "import time\n",
    "from scipy.stats import pareto\n",
    "from scipy.stats import beta\n",
    "import matplotlib.pyplot as plt\n"
   ]
  },
  {
   "cell_type": "code",
   "execution_count": 98,
   "metadata": {},
   "outputs": [],
   "source": [
    "def randu(a = 65539, m = 2**31, N = 2**15, x0 = 5):\n",
    "    x = np.zeros(N) # initialization \n",
    "    x[0] = x0       # the seed value\n",
    "    u = np.zeros(N)\n",
    "    for i in range(N-1):\n",
    "        x[i+1] = (x[i] * a) % m\n",
    "    u = x / m\n",
    "    return u"
   ]
  },
  {
   "cell_type": "code",
   "execution_count": 99,
   "metadata": {},
   "outputs": [],
   "source": [
    "def serialTest(u, r = 2**14, d = 8, k = 64):\n",
    "    N = u.shape[0]\n",
    "    num, _, _ = np.histogram2d(u[0:N:2], u[1:N:2], d, [[0,1],[0,1]]) \n",
    "    # Sliding the u and then determine how many points falling \n",
    "    #into the j-th cell.\n",
    "    chi_sq = np.sum(np.power(num - (r/k), 2)/(r/k))\n",
    "    return chi_sq"
   ]
  },
  {
   "cell_type": "code",
   "execution_count": 100,
   "metadata": {},
   "outputs": [
    {
     "name": "stdout",
     "output_type": "stream",
     "text": [
      "The Serial Test Statistic is 64.8984375\n"
     ]
    }
   ],
   "source": [
    "u = randu()\n",
    "chi_sq = serialTest(u)\n",
    "print(\"The Serial Test Statistic is \" + str(chi_sq))"
   ]
  },
  {
   "cell_type": "markdown",
   "metadata": {},
   "source": [
    "From the question, the degree of freedom for the chi-square distribution is 64-1 = 63, and the value of the serial statistic is around 64.90. By looking at the chi-square table, we know that $P(\\chi^2 > 64.90) > 0.1$. Therefore, we cannot reject the $H_0$"
   ]
  },
  {
   "cell_type": "markdown",
   "metadata": {},
   "source": [
    "##### Question1 b"
   ]
  },
  {
   "cell_type": "code",
   "execution_count": 101,
   "metadata": {},
   "outputs": [
    {
     "name": "stdout",
     "output_type": "stream",
     "text": [
      "The Serial Test is 68.625\n"
     ]
    }
   ],
   "source": [
    "np.random.seed(906)\n",
    "u = np.random.uniform(0, 1, 2**15)\n",
    "chi_sq = serialTest(u)\n",
    "print(\"The Serial Test is \" + str(chi_sq))"
   ]
  },
  {
   "cell_type": "markdown",
   "metadata": {},
   "source": [
    "The numpy random is a random generator. I borrowed this generator to repeat the process. From the test above, the df is 63, and the chi_square value is 68.625. $P(\\chi^2 > 68.625) = 0.292554 > 0.1$ by chi-square calculator, we can not reject the $H_0$\n",
    "\n",
    "Ref: https://numpy.org/devdocs/reference/random/generator.html"
   ]
  },
  {
   "cell_type": "markdown",
   "metadata": {},
   "source": [
    "##### Question2 "
   ]
  },
  {
   "cell_type": "markdown",
   "metadata": {},
   "source": [
    "Algorithm: 1. Select two real numbers $a$ and $b$, and $a < b$. 2. Calculate their coressponding CDF $F(a)$ and $F(b)$. 3. Define a variable F(X) as $F(X) = \\frac{Rand01()}{F(b) - F(a)} + F(a)$. 4. Calculate its corrresponding variable X by $X = F^{-1}(X)$"
   ]
  },
  {
   "cell_type": "code",
   "execution_count": 102,
   "metadata": {},
   "outputs": [],
   "source": [
    "def Pareto_Dist(Lambda, alpha, x):\n",
    "    F_x = 1- (Lambda/(Lambda + x))**alpha\n",
    "    return F_x"
   ]
  },
  {
   "cell_type": "code",
   "execution_count": 103,
   "metadata": {},
   "outputs": [],
   "source": [
    "def truncated_Dist(Lambda = 5, alpha = 2.5, a = 1, b = np.inf, N = 10000):\n",
    "    F_a = pareto.cdf(a,alpha, -Lambda, Lambda)\n",
    "    F_b = pareto.cdf(b, alpha, -Lambda,Lambda)\n",
    "    F_X = np.random.uniform(F_a, F_b, N)\n",
    "    X = pareto.ppf(F_X, alpha, -Lambda, Lambda)\n",
    "    return X\n"
   ]
  },
  {
   "cell_type": "code",
   "execution_count": 104,
   "metadata": {},
   "outputs": [],
   "source": [
    "a = 1\n",
    "b = np.inf\n",
    "Lambda = 5\n",
    "alpha = 2.5\n",
    "N = 10000\n",
    "x = truncated_Dist(Lambda, alpha,a,b, N)"
   ]
  },
  {
   "cell_type": "code",
   "execution_count": 105,
   "metadata": {},
   "outputs": [
    {
     "data": {
      "text/plain": [
       "array([ 7.66820352,  2.75966024,  7.21713422, ...,  4.27138379,\n",
       "       43.4148315 ,  1.84270954])"
      ]
     },
     "execution_count": 105,
     "metadata": {},
     "output_type": "execute_result"
    }
   ],
   "source": [
    "x"
   ]
  },
  {
   "cell_type": "code",
   "execution_count": 106,
   "metadata": {},
   "outputs": [
    {
     "data": {
      "image/png": "[encoded data removed]",
      "text/plain": [
       "<Figure size 432x288 with 1 Axes>"
      ]
     },
     "metadata": {
      "needs_background": "light"
     },
     "output_type": "display_data"
    }
   ],
   "source": [
    "F_a = pareto.cdf(a,alpha, -Lambda, Lambda)\n",
    "F_b = pareto.cdf(b, alpha, -Lambda,Lambda)\n",
    "plt.figure()\n",
    "plt.hist(x,density=True,bins=140,range=[0,40])\n",
    "plt.plot(np.linspace(a,20,140), pareto.pdf(np.linspace(a,20,140), alpha, -Lambda, Lambda)/(F_b-F_a))\n",
    "plt.show()"
   ]
  },
  {
   "cell_type": "markdown",
   "metadata": {},
   "source": [
    "As we shown above, the histogram and the plot ot truncated pdf matches very well. Therefore, the fit is reasonable"
   ]
  },
  {
   "cell_type": "markdown",
   "metadata": {},
   "source": [
    "##### Question3"
   ]
  },
  {
   "cell_type": "markdown",
   "metadata": {},
   "source": [
    "$\n",
    "\\begin{split}\n",
    "& do \\\\  \n",
    "& \\quad v_1,v_2 \\leftarrow 2Rand01() - 1 \\\\ \n",
    "& while (v_1^2 + v_2^2) \\geq 1 \\\\\n",
    "&  X = v_1[-2ln(v_1^2 + v_2^2)]^{1/2}\\\\\n",
    "& Y = v_2[-2ln(v_1^2 + v_2^2)]^{1/2}\\\\\n",
    "& Return X,Y\n",
    "\\end{split}\n",
    "$"
   ]
  },
  {
   "cell_type": "code",
   "execution_count": 253,
   "metadata": {},
   "outputs": [],
   "source": [
    "from math import pi"
   ]
  },
  {
   "cell_type": "code",
   "execution_count": 254,
   "metadata": {},
   "outputs": [],
   "source": [
    "def BoxMuller(N):\n",
    "    N = N//2\n",
    "    u1 = np.random.uniform(0,1,N)\n",
    "    u2 = np.random.uniform(0,1,N)\n",
    "    x1 = np.sqrt(-2*np.log(1-u1))*np.cos(2*pi*u2)\n",
    "    x2 = np.sqrt(-2*np.log(1-u1))*np.sin(2*pi*u2)\n",
    "    result = np.concatenate((x1,x2))\n",
    "    return result"
   ]
  },
  {
   "cell_type": "code",
   "execution_count": 255,
   "metadata": {},
   "outputs": [
    {
     "name": "stdout",
     "output_type": "stream",
     "text": [
      "The samples generated by Box Muller method is like\n",
      "[-1.42841852  2.7971935   0.38266982 ...  0.78063486 -1.6168186\n",
      " -0.94336434]\n"
     ]
    }
   ],
   "source": [
    "N = 1000000\n",
    "x_box = BoxMuller(N)\n",
    "print(\"The samples generated by Box Muller method is like\")\n",
    "print(x_box)"
   ]
  },
  {
   "cell_type": "code",
   "execution_count": 256,
   "metadata": {},
   "outputs": [],
   "source": [
    "def Polar(N):\n",
    "    v1 = 2*np.random.uniform(0,1,N//2)-1\n",
    "    v2 = 2*np.random.uniform(0,1,N//2)-1\n",
    "    Result = v1**2 + v2**2\n",
    "    while any(Result)<1:\n",
    "        indicies = np.where(Result <1)[0]\n",
    "        n = len(indicies)\n",
    "        result = np.zeros(n)\n",
    "        v1_new = 2*np.random.uniform(0,1,n)-1\n",
    "        v2_new = 2*np.random.uniform(0,1,n)-1\n",
    "        result = v1_new**2 + v2_new**2\n",
    "        Result[Result < 1] = result\n",
    "        v1[Result < 1] = v1_new\n",
    "        v2[Result < 1 ] = v2_new\n",
    "    result = np.concatenate((v1,v2))\n",
    "    return result\n",
    "    "
   ]
  },
  {
   "cell_type": "code",
   "execution_count": 259,
   "metadata": {},
   "outputs": [
    {
     "data": {
      "text/plain": [
       "array([ 0.97261399, -0.50870409,  0.24452883, ..., -0.91230714,\n",
       "       -0.93500539, -0.58607893])"
      ]
     },
     "execution_count": 259,
     "metadata": {},
     "output_type": "execute_result"
    }
   ],
   "source": [
    "x_polar = Polar(N)\n",
    "x_polar"
   ]
  },
  {
   "cell_type": "code",
   "execution_count": 260,
   "metadata": {},
   "outputs": [
    {
     "name": "stdout",
     "output_type": "stream",
     "text": [
      "The sample mean for BoxMuller method is  -5.396754746858417e-05\n",
      "The sample variance for BoxMuller method is  0.9981213032536632\n"
     ]
    }
   ],
   "source": [
    "x_box_mean = np.mean(x_box)\n",
    "x_box_var = np.sum(np.power(x_box-x_box_mean,2))/(N-1)\n",
    "print(\"The sample mean for BoxMuller method is \", x_box_mean)\n",
    "print(\"The sample variance for BoxMuller method is \", x_box_var)"
   ]
  },
  {
   "cell_type": "code",
   "execution_count": 261,
   "metadata": {},
   "outputs": [
    {
     "name": "stdout",
     "output_type": "stream",
     "text": [
      "The sample mean for polar method is  -0.001124685359663456\n",
      "The sample variance for polar method is  0.3331130693762763\n"
     ]
    }
   ],
   "source": [
    "x_polar_mean = np.mean(x_polar)\n",
    "x_polar_var = np.sum(np.power(x_polar-x_polar_mean,2))/(N-1)\n",
    "print(\"The sample mean for polar method is \", x_polar_mean)\n",
    "print(\"The sample variance for polar method is \", x_polar_var)"
   ]
  },
  {
   "cell_type": "code",
   "execution_count": 262,
   "metadata": {},
   "outputs": [
    {
     "name": "stdout",
     "output_type": "stream",
     "text": [
      "The implementation time is used for CPU of BoxMuller Method\n",
      "--- 0.04288458824157715 seconds ---\n"
     ]
    }
   ],
   "source": [
    "start_time = time.time()\n",
    "x = BoxMuller(N)\n",
    "end_time = time.time()\n",
    "print(\"The implementation time is used for CPU of BoxMuller Method\")\n",
    "print(\"--- %s seconds ---\" % (end_time - start_time))"
   ]
  },
  {
   "cell_type": "code",
   "execution_count": 263,
   "metadata": {},
   "outputs": [
    {
     "name": "stdout",
     "output_type": "stream",
     "text": [
      "The implementation time is used for CPU of Polar Method\n",
      "--- 0.03286933898925781 seconds ---\n"
     ]
    }
   ],
   "source": [
    "start_time = time.time()\n",
    "x = Polar(N)\n",
    "end_time = time.time()\n",
    "print(\"The implementation time is used for CPU of Polar Method\")\n",
    "print(\"--- %s seconds ---\" % (end_time - start_time))"
   ]
  },
  {
   "cell_type": "markdown",
   "metadata": {},
   "source": [
    "In my case, the polar method is a bit faster than the BoxMuller Method. Although there is a loop involved into the Polar method, I guess it probably because the simple calculation takes much less time than the loop. "
   ]
  },
  {
   "cell_type": "markdown",
   "metadata": {},
   "source": [
    "##### Question 4"
   ]
  },
  {
   "cell_type": "markdown",
   "metadata": {},
   "source": [
    "The mode formula of beta distribution is $x_m = \\frac{\\alpha - 1}{\\alpha + \\beta -2}$ (source from Wikipedia). Applied $\\alpha = 3, \\beta= 4$, the mode $x_m = \\frac{2}{5}=0.4$.    \n",
    "\n",
    "\n",
    "To generate random variates with a pdf $\\phi(x)$, we need to find the $t(x)$, which $t(x)\\geq \\phi(x)$. The pdf of beta distribution is $ x^{\\alpha-1}(1-x)^{\\beta-1} \\times \\frac{\\Gamma(\\alpha + \\beta)}{\\Gamma(\\alpha) \\Gamma(\\beta)}$. Therefore, $\\phi(x) \\leq \\frac{\\Gamma(3+4)}{\\Gamma(3)\\Gamma(4)}(0.4)^{3-1}(0.6)^{4-1} = \\frac{1296}{625}$ . Then we take $t(x) = \\frac{1296}{625} $, and $r(x) = t(x) \\frac{625}{1296} = 1$. "
   ]
  },
  {
   "cell_type": "markdown",
   "metadata": {},
   "source": [
    "From Page 8 of the slide, the Acceptance-Rejection needs to  generate $Y$ with density $r(x)$, then generate $U$ that are $Uniform (0,1)$. Finally, if $U \\leq \\phi(Y)/t(Y)$, then return $Y$, else go back to step 1 to generate another $Y$."
   ]
  },
  {
   "cell_type": "code",
   "execution_count": 266,
   "metadata": {},
   "outputs": [],
   "source": [
    "t = 1296/625\n",
    "N = 10000\n",
    "a = 3\n",
    "b = 4\n",
    "\n",
    "X = np.zeros(N)\n",
    "Y = np.random.uniform(0,1,N)\n",
    "U = np.random.uniform(0,1,N)\n",
    "term = beta.pdf(Y, a, b)/t\n",
    "X[U <= term] = Y[U <= term]\n",
    "while any(X ==0):\n",
    "    indicies = np.where(X == 0)[0]\n",
    "    N = len(indicies)\n",
    "    x = np.zeros(N)\n",
    "    y = np.random.uniform(0,1,N)\n",
    "    u = np.random.uniform(0,1,N)\n",
    "    x[u <= beta.pdf(y, a, b)/t] = y[u <= beta.pdf(y, a, b)/t]\n",
    "    X[X == 0] = x\n",
    "\n"
   ]
  },
  {
   "cell_type": "code",
   "execution_count": 267,
   "metadata": {},
   "outputs": [
    {
     "name": "stdout",
     "output_type": "stream",
     "text": [
      "Based on the Acceptance and Rejection, the generated samples are like below: \n"
     ]
    },
    {
     "data": {
      "text/plain": [
       "array([0.59657031, 0.30315012, 0.42101453, ..., 0.33553253, 0.6490395 ,\n",
       "       0.34497319])"
      ]
     },
     "execution_count": 267,
     "metadata": {},
     "output_type": "execute_result"
    }
   ],
   "source": [
    "print(\"Based on the Acceptance and Rejection, the generated samples are like below: \")\n",
    "X"
   ]
  },
  {
   "cell_type": "code",
   "execution_count": 268,
   "metadata": {},
   "outputs": [
    {
     "name": "stdout",
     "output_type": "stream",
     "text": [
      "The sample mean and variance for acceptance and rejection method is \n",
      "0.42733052270364713 and 0.030611894269141127\n"
     ]
    }
   ],
   "source": [
    "mean_estimated = np.mean(X)\n",
    "var_estimated = np.power(X-mean_estimated, 2).sum()/(10000-1)\n",
    "print(\"The sample mean and variance for acceptance and rejection method is \")\n",
    "print(mean_estimated, \"and\", var_estimated)"
   ]
  },
  {
   "cell_type": "code",
   "execution_count": 269,
   "metadata": {},
   "outputs": [
    {
     "name": "stdout",
     "output_type": "stream",
     "text": [
      "The theoretical mean and variance is \n",
      "0.42857142857142855 and 0.030612244897959183\n"
     ]
    }
   ],
   "source": [
    "mean_theortical, var_theortical, _, _ = beta.stats(3, 4, moments='mvsk')\n",
    "print(\"The theoretical mean and variance is \")\n",
    "print(mean_theortical, \"and\", var_theortical)"
   ]
  },
  {
   "cell_type": "code",
   "execution_count": 270,
   "metadata": {},
   "outputs": [
    {
     "data": {
      "image/png": "[encoded data removed]",
      "text/plain": [
       "<Figure size 432x288 with 1 Axes>"
      ]
     },
     "metadata": {
      "needs_background": "light"
     },
     "output_type": "display_data"
    }
   ],
   "source": [
    "plt.figure()\n",
    "plt.hist(X, density=True, bins=50, range=[0,1])\n",
    "plt.plot(np.linspace(0,1,200), beta.pdf(np.linspace(0,1,200), 3, 4))\n",
    "plt.show() "
   ]
  },
  {
   "cell_type": "markdown",
   "metadata": {},
   "source": [
    "As the plot shown above, the histogram and the plot of beta distribution matches very well. Therefore, the approximation is reasonable."
   ]
  },
  {
   "cell_type": "code",
   "execution_count": 271,
   "metadata": {},
   "outputs": [],
   "source": [
    "# convert the code above into the function \n",
    "def AcceptanceRejection(a,b,N,t):\n",
    "    X = np.zeros(N)\n",
    "    Y = np.random.uniform(0,1,N)\n",
    "    U = np.random.uniform(0,1,N)\n",
    "    term = beta.pdf(Y, a, b)/t\n",
    "    X[U <= term] = Y[U <= term]\n",
    "    while any(X ==0):\n",
    "        indicies = np.where(X == 0)[0]\n",
    "        N = len(indicies)\n",
    "        x = np.zeros(N)\n",
    "        y = np.random.uniform(0,1,N)\n",
    "        u = np.random.uniform(0,1,N)\n",
    "        x[u <= beta.pdf(y, a, b)/t] = y[u <= beta.pdf(y, a, b)/t]\n",
    "        X[X == 0] = x\n",
    "    return X"
   ]
  },
  {
   "cell_type": "code",
   "execution_count": 272,
   "metadata": {},
   "outputs": [
    {
     "name": "stdout",
     "output_type": "stream",
     "text": [
      "The implementation time is used for CPU\n",
      "--- 0.00200653076171875 seconds ---\n"
     ]
    }
   ],
   "source": [
    "start_time = time.time()\n",
    "x = AcceptanceRejection(a, b, N,t)\n",
    "end_time = time.time()\n",
    "print(\"The implementation time is used for CPU\")\n",
    "print(\"--- %s seconds ---\" % (end_time - start_time))"
   ]
  },
  {
   "cell_type": "markdown",
   "metadata": {},
   "source": [
    "The theoretical acceptance rate is the area under curve $\\phi(x)$(pdf of $Beta(3,4)$) over area under curve $t(x) (f(x) = \\frac{1296}{625})$, which is $\\frac{625}{1296} \\approx 0.482253$. The actual acceptance rate is like below"
   ]
  },
  {
   "cell_type": "code",
   "execution_count": 273,
   "metadata": {},
   "outputs": [],
   "source": [
    "# convert the code above into the function \n",
    "def AcceptanceRejection_AccpetanceRate(a,b,N,t):\n",
    "    count = N\n",
    "    X = np.zeros(N)\n",
    "    Y = np.random.uniform(0,1,N)\n",
    "    U = np.random.uniform(0,1,N)\n",
    "    term = beta.pdf(Y, a, b)/t\n",
    "    X[U <= term] = Y[U <= term]\n",
    "    while any(X ==0):\n",
    "        indicies = np.where(X == 0)[0]\n",
    "        N = len(indicies)\n",
    "        count = count + N\n",
    "        x = np.zeros(N)\n",
    "        y = np.random.uniform(0,1,N)\n",
    "        u = np.random.uniform(0,1,N)\n",
    "        x[u <= beta.pdf(y, a, b)/t] = y[u <= beta.pdf(y, a, b)/t]\n",
    "        X[X == 0] = x\n",
    "    return (10000/count)"
   ]
  },
  {
   "cell_type": "code",
   "execution_count": 277,
   "metadata": {},
   "outputs": [
    {
     "name": "stdout",
     "output_type": "stream",
     "text": [
      "the accpetance rate is about  0.48049202383240436\n"
     ]
    }
   ],
   "source": [
    "t = 1296/625\n",
    "N = 10000\n",
    "a = 3\n",
    "b = 4\n",
    "result = AcceptanceRejection_AccpetanceRate(a,b,N,t)\n",
    "print(\"the accpetance rate is about \",result)"
   ]
  },
  {
   "cell_type": "markdown",
   "metadata": {},
   "source": [
    "##### Question4 b implement beta distribution in an alternative way"
   ]
  },
  {
   "cell_type": "code",
   "execution_count": 180,
   "metadata": {},
   "outputs": [],
   "source": [
    "def orderBeta(a, b, N):\n",
    "    u = np.random.uniform(0,1,(N,a+b-1)) # generate 10000*6 matrix\n",
    "    x = np.sort(u, axis=1)[:, a-1] # since the index starts from 0\n",
    "    return x"
   ]
  },
  {
   "cell_type": "code",
   "execution_count": 185,
   "metadata": {},
   "outputs": [
    {
     "name": "stdout",
     "output_type": "stream",
     "text": [
      "The generated samples are like below: \n"
     ]
    },
    {
     "data": {
      "text/plain": [
       "array([0.72460798, 0.07425979, 0.42164989, ..., 0.29396665, 0.32423545,\n",
       "       0.47265004])"
      ]
     },
     "execution_count": 185,
     "metadata": {},
     "output_type": "execute_result"
    }
   ],
   "source": [
    "print(\"The generated samples are like below: \")\n",
    "x = orderBeta(a, b, N)\n",
    "x"
   ]
  },
  {
   "cell_type": "code",
   "execution_count": 186,
   "metadata": {},
   "outputs": [
    {
     "name": "stdout",
     "output_type": "stream",
     "text": [
      "The sample mean and variance for acceptance and rejection method is \n",
      "0.42661653839387226 and 0.030657933342572864\n"
     ]
    }
   ],
   "source": [
    "mean_estimated = np.mean(x)\n",
    "var_estimated = np.power(x-mean_estimated, 2).sum()/(10000-1)\n",
    "print(\"The sample mean and variance for acceptance and rejection method is \")\n",
    "print(mean_estimated, \"and\", var_estimated)"
   ]
  },
  {
   "cell_type": "code",
   "execution_count": 187,
   "metadata": {},
   "outputs": [
    {
     "name": "stdout",
     "output_type": "stream",
     "text": [
      "The theoretical mean and variance is \n",
      "0.42857142857142855 and 0.030612244897959183\n"
     ]
    }
   ],
   "source": [
    "mean_theortical, var_theortical, _, _ = beta.stats(a, b, moments='mvsk')\n",
    "print(\"The theoretical mean and variance is \")\n",
    "print(mean_theortical, \"and\", var_theortical)"
   ]
  },
  {
   "cell_type": "code",
   "execution_count": 189,
   "metadata": {},
   "outputs": [
    {
     "data": {
      "image/png": "[encoded data removed]",
      "text/plain": [
       "<Figure size 432x288 with 1 Axes>"
      ]
     },
     "metadata": {
      "needs_background": "light"
     },
     "output_type": "display_data"
    }
   ],
   "source": [
    "plt.figure()\n",
    "plt.hist(x, density=True, bins=50, range=[0,1])\n",
    "plt.plot(np.linspace(0,1,200), beta.pdf(np.linspace(0,1,200), 3, 4))\n",
    "plt.show() "
   ]
  },
  {
   "cell_type": "markdown",
   "metadata": {},
   "source": [
    "The plot is like above, the histogram fits good with the real pdf function."
   ]
  },
  {
   "cell_type": "code",
   "execution_count": 195,
   "metadata": {},
   "outputs": [
    {
     "name": "stdout",
     "output_type": "stream",
     "text": [
      "The implementation time is used for CPU\n",
      "--- 0.0009970664978027344 seconds ---\n"
     ]
    }
   ],
   "source": [
    "import time\n",
    "start_time = time.time()\n",
    "x = orderBeta(a, b, N)\n",
    "end_time = time.time()\n",
    "print(\"The implementation time is used for CPU\")\n",
    "print(\"--- %s seconds ---\" % (end_time - start_time))"
   ]
  },
  {
   "cell_type": "markdown",
   "metadata": {},
   "source": [
    "The function in part (b) takes 0.0009970664978027344 seconds, but the function in part(a) takes 0.003956794738769531 seconds. Therefore, function in part(b) is faster.\n",
    "The reason why b is faster is probably because there is a while loop involved in a. In part b, it takes a very minimum time to generate an 1000*6 matrix, and then we select the alpha-th in each row to make it a beta distribution. However, in part a, it actually needs more times to run in the loop because it is not guaranteed that the first time 10000 samples all satisfy the requirement. If it doesn't work, we need to resimulate the number again. "
   ]
  },
  {
   "cell_type": "markdown",
   "metadata": {},
   "source": [
    "##### Question 5"
   ]
  },
  {
   "cell_type": "markdown",
   "metadata": {},
   "source": [
    "$\n",
    "\\begin{split}\n",
    "Var(\\hat{\\mu}_{ant}) &= Var(\\frac{2}{n}\\sum_{i=1}^{\\frac{n}{2}}\\frac{f(\\vec{u}_i) + f(-\\vec{u}_i)}{2})\n",
    "\\end{split}\n",
    "$\n",
    "\n",
    "$\n",
    "\\begin{split}\n",
    "f(\\vec{u_i}) &= \\sum_{j = 1}^{s}(0.5 - u_j)^2\n",
    "\\end{split}\n",
    "$\n",
    "\n",
    "$\n",
    "\\begin{split}\n",
    "f(-\\vec{u_i}) &= \\sum_{j = 1}^{s}(0.5 - (1-u_j))^2\\\\\n",
    "& = \\sum_{j=1}^{s}(u_j - 0.5)^2\\\\\n",
    "&=f(\\vec{u_i})\n",
    "\\end{split}\n",
    "$\n",
    "\n",
    "$\n",
    "\\begin{split}\n",
    "Var(\\hat{\\mu}_{ant}) &= Var(\\frac{2}{n}\\sum_{i=1}^{n/2}f(\\vec{u}_i)) \\\\\n",
    "&=\\frac{2}{n}Var(f(\\vec{u}_i))\\\\\n",
    "\\end{split}\n",
    "$\n",
    "\n",
    "$\n",
    "\\begin{split}\n",
    "Var(\\hat{\\mu}_{mc}) &= Var(\\frac{1}{n}\\sum_{i=1}^{n}\\sum_{j=1}^{s} (0.5-u_{ij})^2)\\\\\n",
    "&= \\frac{1}{n^2} \\sum_{i=1}^{n} Var(\\sum_{j=1}^{s} (0.5-u_{ij})^2)) \\\\\n",
    "&= \\frac{1}{n} Var(f(\\vec{u_i}))\n",
    "\\end{split}\n",
    "$\n",
    "\n",
    "\n",
    "Therefore,\n",
    "$\\frac{Var(\\hat{\\mu}_{ant})}{Var(\\hat{\\mu}_{mc})} = 2$"
   ]
  },
  {
   "cell_type": "markdown",
   "metadata": {},
   "source": [
    "Because $f(\\vec{u}) = f(1-\\vec{u}) = \\sum_{j=1}^{s} (0.5-(1-u_j))^2 = \\sum_{j=1}^{s} (0.5-u_j)^2 = f(\\vec{u})$. Therefore, the covariance is 1. However, from the lectrue note, the variance of the estimator will reduce under the condition that the covariance is $Cov(f(\\textbf{u}), f(\\tilde{\\textbf{u}})) < 0$. Therefore, obviously the variance of the estimator will increase. "
   ]
  },
  {
   "cell_type": "markdown",
   "metadata": {},
   "source": [
    "##### Question 6"
   ]
  },
  {
   "cell_type": "markdown",
   "metadata": {},
   "source": [
    "I used the standard recursive method to simulate the stock price, where $S_i(t_j) = S_i(t_{j-1})e^{(r-\\sigma^2/2)\\delta + \\sigma \\sqrt{\\delta} Z_{ij}}$, and $i = 1, 2, ..., n$, $j = 1, 2, ..., 10$, $Z_{ij}s$ are i.i.d. $\\sim Normal(0,1) $. Then compute the estimated option price using $C = \\frac{1}{n} \\sum_{i=1}^n e^{-rT} max\\{0, \\frac{1}{s}\\sum_{j=1}^{s}S_i(t_j) - K\\}$   \n",
    "\n",
    "The result of the program is like below:"
   ]
  },
  {
   "cell_type": "code",
   "execution_count": 236,
   "metadata": {},
   "outputs": [],
   "source": [
    "r = 0.04\n",
    "T = 1\n",
    "sigma = 0.35\n",
    "S_0 = 50\n",
    "K = 45\n",
    "s = 10\n",
    "N = 10000\n",
    "def AsianCallOption(r, T, sigma, s, S_0, K, N):\n",
    "    delta = T/s\n",
    "    S_t = np.zeros((N, s+1))\n",
    "    S_t[:,0] = S_0\n",
    "    for i in range(s):\n",
    "        W_t = np.random.normal(0,1,N)\n",
    "        S_t[:,i+1] = S_t[:,i] * np.exp( (r-sigma**2/2)*delta+ sigma * np.sqrt(delta) * W_t)\n",
    "    payoff = np.mean(S_t[:,1:], axis=1) - K \n",
    "    payoff[payoff < 0 ] = 0\n",
    "    price = np.mean(np.exp(-r *T)*payoff )\n",
    "    var = np.sum(np.power(payoff - price, 2))/(N-1)/N\n",
    "    return price,var"
   ]
  },
  {
   "cell_type": "code",
   "execution_count": 237,
   "metadata": {},
   "outputs": [
    {
     "data": {
      "text/plain": [
       "7.607989643154084"
      ]
     },
     "execution_count": 237,
     "metadata": {},
     "output_type": "execute_result"
    }
   ],
   "source": [
    "price_MC,var_MC = AsianCallOption(r, T, sigma, s, S_0, K, N)\n",
    "price_MC"
   ]
  },
  {
   "cell_type": "code",
   "execution_count": 238,
   "metadata": {},
   "outputs": [
    {
     "name": "stdout",
     "output_type": "stream",
     "text": [
      "The estimated price call option by naive Monte Carlo is  7.534876472151371\n"
     ]
    }
   ],
   "source": [
    "print(\"The estimated price call option by naive Monte Carlo is \", price)"
   ]
  },
  {
   "cell_type": "code",
   "execution_count": 241,
   "metadata": {},
   "outputs": [],
   "source": [
    "def AsianCallOption2(r, T, sigma, s, S_0, K, N):\n",
    "    delta = T/s\n",
    "    num = N//2\n",
    "    S_t = np.zeros((N, s+1))\n",
    "    S_t[:,0] = S_0\n",
    "    for i in range(s):\n",
    "        W_t = np.random.normal(0,1,int(N/2))\n",
    "        S_t[0:num,(i+1)] = S_t[0:num,i] * np.exp( (r-sigma**2/2) * delta + sigma * np.sqrt(delta)* W_t)\n",
    "        S_t[num:,(i+1)] = S_t[num:,i]*np.exp( (r-sigma**2/2) * delta + sigma* np.sqrt(delta)*(- W_t))\n",
    "    payoff = np.exp(-r*T)* (np.mean(S_t[:,1:], axis=1) - K) \n",
    "    payoff[payoff < 0] = 0\n",
    "    price = np.mean((payoff[0:num] + payoff[num:])/2)\n",
    "    var = np.sum(np.power(payoff-price, 2))/(N/2-1)/(N/2)\n",
    "    return price,var"
   ]
  },
  {
   "cell_type": "code",
   "execution_count": 242,
   "metadata": {},
   "outputs": [
    {
     "data": {
      "text/plain": [
       "7.528403002395149"
      ]
     },
     "execution_count": 242,
     "metadata": {},
     "output_type": "execute_result"
    }
   ],
   "source": [
    "price_AV,var_AV = AsianCallOption2(r, T, sigma, s, S_0, K, N)\n",
    "price_AV"
   ]
  },
  {
   "cell_type": "code",
   "execution_count": 243,
   "metadata": {},
   "outputs": [
    {
     "name": "stdout",
     "output_type": "stream",
     "text": [
      "The estimated price call option by Antithetic Variates is  7.534876472151371\n"
     ]
    }
   ],
   "source": [
    "print(\"The estimated price call option by Antithetic Variates is \", price)"
   ]
  },
  {
   "cell_type": "code",
   "execution_count": 244,
   "metadata": {},
   "outputs": [
    {
     "name": "stdout",
     "output_type": "stream",
     "text": [
      "The variance of Monte Carlo is  0.009093266016597061\n"
     ]
    }
   ],
   "source": [
    "print(\"The variance of Monte Carlo is \", var_MC)"
   ]
  },
  {
   "cell_type": "code",
   "execution_count": 245,
   "metadata": {},
   "outputs": [
    {
     "name": "stdout",
     "output_type": "stream",
     "text": [
      "The variance of the Antithetic Variate is  0.031946214968765464\n"
     ]
    }
   ],
   "source": [
    "print(\"The variance of the Antithetic Variate is \", var_AV)"
   ]
  },
  {
   "cell_type": "code",
   "execution_count": 249,
   "metadata": {},
   "outputs": [
    {
     "name": "stdout",
     "output_type": "stream",
     "text": [
      "The implementation time is used for CPU\n",
      "--- 0.00698089599609375 seconds ---\n"
     ]
    }
   ],
   "source": [
    "start_time = time.time()\n",
    "price_MC,var_MC = AsianCallOption(r, T, sigma, s, S_0, K, N)\n",
    "end_time = time.time()\n",
    "time_MC = end_time - start_time\n",
    "print(\"The implementation time is used for CPU\")\n",
    "print(\"--- %s seconds ---\" % (end_time - start_time))"
   ]
  },
  {
   "cell_type": "code",
   "execution_count": 250,
   "metadata": {},
   "outputs": [
    {
     "name": "stdout",
     "output_type": "stream",
     "text": [
      "The implementation time is used for CPU\n",
      "--- 0.0059854984283447266 seconds ---\n"
     ]
    }
   ],
   "source": [
    "start_time = time.time()\n",
    "price_MC,var_MC = AsianCallOption2(r, T, sigma, s, S_0, K, N)\n",
    "end_time = time.time()\n",
    "time_AV = end_time - start_time\n",
    "print(\"The implementation time is used for CPU\")\n",
    "print(\"--- %s seconds ---\" % (end_time - start_time))"
   ]
  },
  {
   "cell_type": "markdown",
   "metadata": {},
   "source": [
    "By using the formula to estimate the efficieny  \n",
    "\n",
    "$$Eff(\\hat{\\mu}) = \\frac{1}{MSE(\\hat{\\mu})\\times C(\\hat{\\mu})}$$"
   ]
  },
  {
   "cell_type": "code",
   "execution_count": 251,
   "metadata": {},
   "outputs": [
    {
     "data": {
      "text/plain": [
       "(4543.863140997618, 5229.742059093211)"
      ]
     },
     "execution_count": 251,
     "metadata": {},
     "output_type": "execute_result"
    }
   ],
   "source": [
    "Efficiency_a = 1/(var_MC*time_MC)\n",
    "Efficiency_b = 1/(var_AV*time_AV)\n",
    "Efficiency_a, Efficiency_b"
   ]
  },
  {
   "cell_type": "markdown",
   "metadata": {},
   "source": [
    "Method B has a higher efficiency than Method A"
   ]
  },
  {
   "cell_type": "code",
   "execution_count": null,
   "metadata": {},
   "outputs": [],
   "source": []
  }
 ],
 "metadata": {
  "kernelspec": {
   "display_name": "Python 3",
   "language": "python",
   "name": "python3"
  },
  "language_info": {
   "codemirror_mode": {
    "name": "ipython",
    "version": 3
   },
   "file_extension": ".py",
   "mimetype": "text/x-python",
   "name": "python",
   "nbconvert_exporter": "python",
   "pygments_lexer": "ipython3",
   "version": "3.7.3"
  }
 },
 "nbformat": 4,
 "nbformat_minor": 4
}
