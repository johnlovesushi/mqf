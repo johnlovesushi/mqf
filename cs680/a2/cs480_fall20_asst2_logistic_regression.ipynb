{
 "cells": [
  {
   "cell_type": "markdown",
   "metadata": {
    "id": "JFXZug066bJX"
   },
   "source": [
    "# Upload files in Google Colab\n",
    "If you are running this Jupyter Notebook on Google Colab, run this cell to upload the data files (train_inputs.csv, train_targets.csv, test_inputs.csv, test_targets.csv) in the colab virtual machine.  You will be prompted to select files that you would like to upload. \n",
    "\n",
    "If you are running this Jupyter Notebook on your computer, you do not need to run this cell."
   ]
  },
  {
   "cell_type": "code",
   "execution_count": null,
   "metadata": {
    "id": "dqBJV_Br4XeI"
   },
   "outputs": [],
   "source": [
    "from google.colab import files\n",
    "uploaded = files.upload()\n",
    "%ls"
   ]
  },
  {
   "cell_type": "markdown",
   "metadata": {
    "id": "LZDpxE4jmFwA"
   },
   "source": [
    "# Import libraries \n",
    "Do not use any other Python library."
   ]
  },
  {
   "cell_type": "code",
   "execution_count": 1,
   "metadata": {
    "id": "m_1d0BPfmacB"
   },
   "outputs": [],
   "source": [
    "import numpy as np\n",
    "import matplotlib.pyplot as plt"
   ]
  },
  {
   "cell_type": "markdown",
   "metadata": {
    "id": "6keYhcgi7nbf"
   },
   "source": [
    "# Function: load_logistic_regression_data\n",
    "\n",
    "This function loads the data for Logistic Regression from a local drive into RAM\n",
    "\n",
    "Outputs:\n",
    "\n",
    "*   **train_inputs**: numpy array of N training data points x M features\n",
    "*   **train_labels**: numpy array of N training labels\n",
    "*   **test_inputs**: numpy array of N' test data points x M features\n",
    "*   **test_labels**: numpy array of N' test labels"
   ]
  },
  {
   "cell_type": "code",
   "execution_count": 2,
   "metadata": {
    "id": "vcG5U2lR7utt"
   },
   "outputs": [],
   "source": [
    "def load_logistic_regression_data():\n",
    "  test_inputs = np.genfromtxt('test_inputs.csv', delimiter=',')\n",
    "  test_labels = np.genfromtxt('test_labels.csv', delimiter=',')\n",
    "  train_inputs = np.genfromtxt('train_inputs.csv', delimiter=',')\n",
    "  train_labels = np.genfromtxt('train_labels.csv', delimiter=',')\n",
    "  return train_inputs, train_labels, test_inputs, test_labels"
   ]
  },
  {
   "cell_type": "markdown",
   "metadata": {
    "id": "NZTxUMDM2PDx"
   },
   "source": [
    "# Function: sigmoid\n",
    "\n",
    "This function implements the logistic sigmoid.\n",
    "\n",
    "Input:\n",
    "*   **input**: vector of inputs (numpy array of floats)\n",
    "\n",
    "Output:\n",
    "*   **output**: vector of outputs (numpy array of floats)"
   ]
  },
  {
   "cell_type": "code",
   "execution_count": 3,
   "metadata": {
    "id": "evR9GYnV3FmM"
   },
   "outputs": [],
   "source": [
    "def sigmoid(input):\n",
    "\n",
    "  # dummy assignment until the function is filled in\n",
    "  output = 1/(1+ np.exp(-input))\n",
    "  return output"
   ]
  },
  {
   "cell_type": "markdown",
   "metadata": {
    "id": "GwLo3p4f8bTa"
   },
   "source": [
    "# Function: predict_logistic_regression\n",
    "\n",
    "This function uses a vector of weights to make predictions for a set of inputs.  The prediction for each data point is a distribution over the labels.  Assume that there are only two possible labels {0,1}.\n",
    "\n",
    "Inputs:\n",
    "*   **inputs**: matrix of input data points for which we want to make a prediction (numpy array of N data points x M+1 features)\n",
    "*   **weights**: vector of weights (numpy array of M+1 weights)\n",
    "\n",
    "Output:\n",
    "*   **predicted_probabilities**: matrix of predicted probabilities (numpy array of N data points x 2 labels)"
   ]
  },
  {
   "cell_type": "code",
   "execution_count": 4,
   "metadata": {
    "id": "iX04_wClRqkV"
   },
   "outputs": [],
   "source": [
    "def predict_logistic_regression(inputs, weights):\n",
    "\n",
    "  # dummy assignment until the function is filled in\n",
    "  predicted_probabilities = sigmoid(inputs@weights)\n",
    "  return predicted_probabilities"
   ]
  },
  {
   "cell_type": "markdown",
   "metadata": {
    "id": "fmfPN7K0RtQ5"
   },
   "source": [
    "# Function eval_logistic_regression\n",
    "\n",
    "This function evaluates a set of predictions by computing the negative log probabilities of the labels and the accuracy (percentage of correctly predicted labels).  Assume that there are only two possible labels {0,1}.  A data point is correctly labeled when the probability of the target label is >= 0.5.\n",
    "\n",
    "Inputs:\n",
    "*   **inputs**: matrix of input data points for which we will evaluate the predictions (numpy array of N data points x M+1 features)\n",
    "*   **weights**: vector of weights (numpy array of M+1 weights)\n",
    "*   **labels**: vector of target labels associated with the inputs (numpy array of N labels)\n",
    "\n",
    "Outputs:\n",
    "*   **neg_log_prob**: negative log probability of the set of predictions (float)\n",
    "*   **accuracy**: percentage of correctly labeled data points (float)"
   ]
  },
  {
   "cell_type": "code",
   "execution_count": 5,
   "metadata": {
    "id": "wC14LEsvTxbu"
   },
   "outputs": [],
   "source": [
    "def eval_logistic_regression(inputs, weights, labels):\n",
    "  \n",
    "  # dummy assignment until the function is filled in\n",
    "  N = len(labels)\n",
    "  dim = np.shape(inputs)[1]\n",
    "  predicted_result = sigmoid(inputs@weights)  \n",
    "  predicted_label = np.zeros((N,1))\n",
    "  predicted_label[predicted_result > 0.5] = 1\n",
    "  correct_label = np.zeros((N,1))\n",
    "  correct_label[predicted_label == labels.reshape((N,1))] = 1\n",
    "  accuracy = np.sum(correct_label)/N  \n",
    "  #accuracy = 0\n",
    "\n",
    "  # calculate negative log likelihood\n",
    "  Sigma = sigmoid(inputs@weights)\n",
    "  neg_log_prob = -np.sum(np.multiply(labels.reshape(N,1),np.log(Sigma)) + np.multiply((1-labels.reshape(N,1)),np.log(1-Sigma))) \n",
    "  return neg_log_prob, accuracy"
   ]
  },
  {
   "cell_type": "markdown",
   "metadata": {
    "id": "R7hZ4XVP4U4y"
   },
   "source": [
    "Function: initialize_weights\n",
    "\n",
    "This function initializes the weights uniformly at random in the interval [-0.05,0.05]\n",
    "\n",
    "Input:\n",
    "*   **n_weights**: # of weights to be initialized (integer)\n",
    "\n",
    "Output:\n",
    "*   **random_weights**: vector of weights (numpy array of floats)"
   ]
  },
  {
   "cell_type": "code",
   "execution_count": 6,
   "metadata": {
    "id": "9OjhevpV5FBg"
   },
   "outputs": [],
   "source": [
    "def initialize_weights(n_weights):\n",
    "  random_weights = np.random.uniform(low = -0.05, high = 0.05, size = n_weights)\n",
    "  return random_weights"
   ]
  },
  {
   "cell_type": "markdown",
   "metadata": {
    "id": "RMAzC5xXT0H-"
   },
   "source": [
    "# Function train_logistic_regression\n",
    "\n",
    "This function optimizes a set of weights for logistic regression based on a training set.  Initialize the weights with the function initialize_weights.  Implement Newton's algorithm to optimize the weights.  Stop Newton's algorithm when the maximum change for all weights is less than 0.001 in two consecutive iterations. Assume that there are only two labels {0,1}.\n",
    "\n",
    "Inputs:\n",
    "*   **train_inputs**: matrix of input training points (numpy array of N data points x M+1 features)\n",
    "*   **train_labels**: vector of labels associated with the inputs (numpy array of N labels)\n",
    "*   **lambda_hyperparam**: lambda hyperparameter used to adjust the importance of the regularizer (scalar)\n",
    "\n",
    "Output:\n",
    "*   **weights**: vector of weights that have been optimized (numpy array of M+1 weights)\n",
    "\n"
   ]
  },
  {
   "cell_type": "code",
   "execution_count": 7,
   "metadata": {
    "id": "_DkzoT5QVy41"
   },
   "outputs": [],
   "source": [
    "def train_logistic_regression(train_inputs, train_labels, lambda_hyperparam):\n",
    "  dim = np.shape(train_inputs)[1]\n",
    "  N = len(train_labels)\n",
    "  # weight iniliazation\n",
    "  first_weight = np.ones((dim,1))\n",
    "  second_weight = initialize_weights(dim).reshape(dim,1)\n",
    "  # while loop terminates until every single element in the weight vector less than 0.001\n",
    "  while np.max(abs(first_weight - second_weight) > 0.001):\n",
    "    first_weight = second_weight\n",
    "    X_bar = np.transpose(train_inputs).reshape((dim,N))  # need to modify the input (whether it's train or test)\n",
    "    X_bar_transpose = train_inputs\n",
    "    Sigma = sigmoid(train_inputs@second_weight)\n",
    "    Sigma2 = 1 - Sigma\n",
    "    R = np.eye(N)*np.multiply(Sigma,Sigma2)\n",
    "    Hessian = X_bar@R@X_bar_transpose  + lambda_hyperparam*np.eye(dim) \n",
    "    gradient = np.transpose((Sigma - train_labels.reshape(N,1)))@train_inputs + lambda_hyperparam*np.transpose(first_weight).reshape((1,dim))\n",
    "    second_weight = first_weight - np.linalg.inv(Hessian)@(np.transpose(gradient).reshape((dim,1)))\n",
    "  weights = second_weight\n",
    "  return weights"
   ]
  },
  {
   "cell_type": "markdown",
   "metadata": {
    "id": "VYIbLxX7V2DW"
   },
   "source": [
    "# Function cross_validation_logistic_regression\n",
    "\n",
    "This function performs k-fold cross validation to determine the best lambda hyperparameter in logistic regression\n",
    "\n",
    "Inputs:\n",
    "*   **k_folds**: # of folds in cross-validation (integer)\n",
    "*   **hyperparameters**: list of hyperparameters where each hyperparameter is a different lambda value (list of floats)\n",
    "*   **inputs**: matrix of input points (numpy array of N data points by M+1 features)\n",
    "*   **labels**: vector of labels associated with the inputs (numpy array of N labels)\n",
    "\n",
    "Outputs:\n",
    "*   **best_hyperparam**: best lambda value for logistic regression (float)\n",
    "*   **best_neg_log_prob**: negative log probabilty achieved with best_hyperparam (float)\n",
    "*   **neg_log_probabilities**: vector of negative log probabilities for the corresponding hyperparameters (numpy array of floats)\n",
    "\n"
   ]
  },
  {
   "cell_type": "code",
   "execution_count": 8,
   "metadata": {
    "id": "_ZzoiZxLZMcV"
   },
   "outputs": [],
   "source": [
    "def cross_validation_logistic_regression(k_folds, hyperparameters, inputs, labels):\n",
    "  \n",
    "  # dummy assignments until the function is filled in\n",
    "  N = len(labels)\n",
    "  dim = np.shape(inputs)[1]\n",
    "  validate_length = int(N/k_folds)\n",
    "  neg_log_probabilities = np.zeros(len(hyperparams))\n",
    "  accuracy = np.zeros(len(hyperparams))\n",
    "  for index,j in enumerate(hyperparams):\n",
    "    accs= np.zeros(k_folds)\n",
    "    log_likelihood = np.zeros(k_folds)\n",
    "    for i in range(k_folds):\n",
    "        # split the data set as validate_data and train_data\n",
    "        # split the label as validate_value and train_value\n",
    "          validate_data, train_data = train_validate_data_split(train_inputs, i, validate_length)\n",
    "          validate_value, train_value = train_validate_data_split(train_labels,i,validate_length)\n",
    "          validate_value= validate_value.reshape((len(validate_value),1))\n",
    "          train_value = train_value.reshape((len(train_value),1))\n",
    "          validate_data = validate_data.reshape((len(validate_data),dim))\n",
    "          train_data = train_data.reshape((len(train_data),dim))\n",
    "          weights = train_logistic_regression(train_data, train_value, j)\n",
    "        # split the label set \n",
    "        \n",
    "        #validate_data_x_bar = generate_x_bar(validate_data)\n",
    "          log_likelihood[i],accs[i] = eval_logistic_regression(validate_data, weights, validate_value) # calculate mse for all k_folds\n",
    "          log_likelihood[i] = log_likelihood[i] \n",
    "    neg_log_probabilities[index] = np.average(log_likelihood)  # take the average value of k_folds number of mse\n",
    "    accuracy[index] = np.average(accs)\n",
    "  best_neg_log_prob = np.amin(neg_log_probabilities)    # find the minimum value of mse\n",
    "  best_hyperparam = int(np.where(neg_log_probabilities == best_neg_log_prob)[0])  #find the babel  \n",
    "  return best_hyperparam, best_neg_log_prob, neg_log_probabilities"
   ]
  },
  {
   "cell_type": "code",
   "execution_count": 9,
   "metadata": {},
   "outputs": [],
   "source": [
    "def train_validate_data_split(inputs, i, validate_length):\n",
    "    data_split = np.split(inputs,[i*validate_length,(i+1)*validate_length])\n",
    "    validate_data = data_split[1]\n",
    "    train_data = np.concatenate((data_split[0],data_split[2]))\n",
    "    return validate_data,train_data"
   ]
  },
  {
   "cell_type": "markdown",
   "metadata": {
    "id": "_ah5AAayZfVU"
   },
   "source": [
    "# Function: plot_logistic_regression_neg_log_probabilities\n",
    "\n",
    "Function that plots the negative log probabilities for different lambda values (hyperparameters) in logistic regression based on cross validation\n",
    "\n",
    "Inputs:\n",
    "*   **neg_log_probabilities**: vector of negative log probabilities for the corresponding hyperparameters (numpy array of floats)\n",
    "*   **hyperparams**: list of hyperparameters where each hyperparameter is a different lambda value (list of floats)"
   ]
  },
  {
   "cell_type": "code",
   "execution_count": 10,
   "metadata": {
    "id": "dh9qZuzMatsZ"
   },
   "outputs": [],
   "source": [
    "def plot_logistic_regression_neg_log_probabilities(neg_log_probabilities,hyperparams):\n",
    "  plt.plot(hyperparams,neg_log_probabilities)\n",
    "  plt.ylabel('negative log probability')\n",
    "  plt.xlabel('lambda')\n",
    "  plt.show()"
   ]
  },
  {
   "cell_type": "markdown",
   "metadata": {
    "id": "s21LRP5Qb3m8"
   },
   "source": [
    "# Main Logistic Regression code\n",
    "\n",
    "Load data (rescale the inputs to be in the [-1,1] range, add 1 at the end of each datapoint and rename the labels 5,6 to 0,1).\n",
    "Use k-fold cross validation to find the best lambda value for logistic regression.\n",
    "Plot the negative log probabilities for different lambda values.\n",
    "Test logistic regression with the best lambda value."
   ]
  },
  {
   "cell_type": "code",
   "execution_count": 11,
   "metadata": {
    "id": "njlK2bf7sycQ"
   },
   "outputs": [
    {
     "data": {
      "image/png": "[encoded data removed]",
      "text/plain": [
       "<Figure size 432x288 with 1 Axes>"
      ]
     },
     "metadata": {
      "needs_background": "light"
     },
     "output_type": "display_data"
    },
    {
     "name": "stdout",
     "output_type": "stream",
     "text": [
      "best lambda: 8\n",
      "best cross validation negative log probability: 37.608064347355594\n",
      "test accuracy: 0.8727272727272727\n",
      "test negative log probability: 33.29203064888895\n"
     ]
    }
   ],
   "source": [
    "# load data\n",
    "train_inputs, train_labels, test_inputs, test_labels = load_logistic_regression_data()\n",
    "\n",
    "# rescale inputs in the [-1,1] range\n",
    "train_inputs = (train_inputs - 8)/8\n",
    "test_inputs = (test_inputs - 8)/8\n",
    "\n",
    "# add 1 at the end of each data point\n",
    "train_inputs = np.concatenate((train_inputs,np.ones((train_inputs.shape[0],1))),1)\n",
    "test_inputs = np.concatenate((test_inputs,np.ones((test_inputs.shape[0],1))),1)\n",
    "\n",
    "# rename the classes 5,6 to 0,1\n",
    "train_labels = train_labels.astype(int) - 5\n",
    "test_labels = test_labels.astype(int) - 5\n",
    "\n",
    "# lambda values to be evaluated by cross validation\n",
    "hyperparams = range(201)\n",
    "k_folds = 10\n",
    "best_lambda, best_neg_log_prob, neg_log_probabilities = cross_validation_logistic_regression(k_folds,hyperparams,train_inputs,train_labels)\n",
    "\n",
    "# plot results\n",
    "plot_logistic_regression_neg_log_probabilities(neg_log_probabilities,hyperparams)\n",
    "print('best lambda: ' + str (best_lambda))\n",
    "print('best cross validation negative log probability: ' + str(best_neg_log_prob))\n",
    "\n",
    "# train and evaluate with best lambda\n",
    "weights = train_logistic_regression(train_inputs,train_labels,best_lambda)\n",
    "neg_log_prob, accuracy = eval_logistic_regression(test_inputs, weights, test_labels)\n",
    "print('test accuracy: ' + str(accuracy))\n",
    "print('test negative log probability: ' + str(neg_log_prob))\n",
    "\n"
   ]
  },
  {
   "cell_type": "markdown",
   "metadata": {},
   "source": [
    "## Part two\n",
    "#### Compare the expressivity between two seperators.\n",
    "\n",
    "I think the performance of two separators really depends on whether the data set is linear separable or not. If the data set is linear separable, a linear classifier could fit a boundary line in 2D to separate two classes. In contrast, non-linear separator could mis-classify the labels of the data. For example, in KNN method, if several points are close enough to the point, the point probably will be mis-classify because the these points. In this case, linear separator performs better than the non-linear separator. \n",
    "\n",
    "However, if the data set is not linear separable, which mean it does not exist a line that is able to separate two classes, then the non-linear separator performs better than linear separator.\n",
    "\n",
    "In term of expressivity, I think KNN out-perform than logistic regression since there are less domain of the datasets that are purely linearly separable. As disscussed above, KNN performs better in those non-linearly separable dataset.\n",
    "\n",
    "#### What could explain the results obtained with KNN in comparison to the results obtained with logistic regression?\n",
    "\n",
    "As we see from the result, the test accuracy from KNN was about 78%, but the test accuracy from the logistic regression in this test is about 87.27%. The result illustrates the performance of linear separator performs better than the non-linear separator. The data set is not linearly separable probably because some noise points.\n"
   ]
  },
  {
   "cell_type": "markdown",
   "metadata": {},
   "source": [
    "#### Is the training set used in this assignment linearly separable?\n",
    "To see whether the training set is linearly separable, we borrow the weight obtained from training data set, and then try to use this weight to perform a logistic classifer on the labels of training data set. If the accuracy is high enough, it proves the training data set is linearly separable, if the accuracy is not high, it proves the training data set is non-linearly separable."
   ]
  },
  {
   "cell_type": "code",
   "execution_count": 12,
   "metadata": {},
   "outputs": [
    {
     "name": "stdout",
     "output_type": "stream",
     "text": [
      "test accuracy: 0.878\n",
      "test negative log probability: 334.9713955279217\n"
     ]
    }
   ],
   "source": [
    "# train and evaluate with best lambda\n",
    "weights = train_logistic_regression(train_inputs,train_labels,best_lambda)\n",
    "neg_log_prob, accuracy = eval_logistic_regression(train_inputs, weights, train_labels)\n",
    "print('test accuracy: ' + str(accuracy))\n",
    "print('test negative log probability: ' + str(neg_log_prob))"
   ]
  },
  {
   "cell_type": "markdown",
   "metadata": {},
   "source": [
    "As we can see from the result, the test accuracy of the logistic classifer on training data set is about 87%, which proves the training data set is not linearly separable."
   ]
  },
  {
   "cell_type": "code",
   "execution_count": null,
   "metadata": {},
   "outputs": [],
   "source": []
  }
 ],
 "metadata": {
  "colab": {
   "name": "cs480_fall20_asst2_logistic_regression_skeleton.ipynb",
   "provenance": []
  },
  "kernelspec": {
   "display_name": "Python 3 (ipykernel)",
   "language": "python",
   "name": "python3"
  },
  "language_info": {
   "codemirror_mode": {
    "name": "ipython",
    "version": 3
   },
   "file_extension": ".py",
   "mimetype": "text/x-python",
   "name": "python",
   "nbconvert_exporter": "python",
   "pygments_lexer": "ipython3",
   "version": "3.7.16"
  }
 },
 "nbformat": 4,
 "nbformat_minor": 1
}
