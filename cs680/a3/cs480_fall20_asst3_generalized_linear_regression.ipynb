{
 "cells": [
  {
   "cell_type": "markdown",
   "metadata": {
    "id": "JFXZug066bJX"
   },
   "source": [
    "# Upload files in Google Colab\n",
    "If you are running this Jupyter Notebook on Google Colab, run this cell to upload the data files (train_inputs.csv, train_targets.csv, test_inputs.csv, test_targets.csv) in the colab virtual machine.  You will be prompted to select files that you would like to upload. \n",
    "\n",
    "If you are running this Jupyter Notebook on your computer, you do not need to run this cell."
   ]
  },
  {
   "cell_type": "code",
   "execution_count": 1,
   "metadata": {
    "id": "dqBJV_Br4XeI"
   },
   "outputs": [
    {
     "ename": "ModuleNotFoundError",
     "evalue": "No module named 'google'",
     "output_type": "error",
     "traceback": [
      "\u001b[1;31m---------------------------------------------------------------------------\u001b[0m",
      "\u001b[1;31mModuleNotFoundError\u001b[0m                       Traceback (most recent call last)",
      "\u001b[1;32m<ipython-input-1-ece8c0ebce5e>\u001b[0m in \u001b[0;36m<module>\u001b[1;34m\u001b[0m\n\u001b[1;32m----> 1\u001b[1;33m \u001b[1;32mfrom\u001b[0m \u001b[0mgoogle\u001b[0m\u001b[1;33m.\u001b[0m\u001b[0mcolab\u001b[0m \u001b[1;32mimport\u001b[0m \u001b[0mfiles\u001b[0m\u001b[1;33m\u001b[0m\u001b[1;33m\u001b[0m\u001b[0m\n\u001b[0m\u001b[0;32m      2\u001b[0m \u001b[0muploaded\u001b[0m \u001b[1;33m=\u001b[0m \u001b[0mfiles\u001b[0m\u001b[1;33m.\u001b[0m\u001b[0mupload\u001b[0m\u001b[1;33m(\u001b[0m\u001b[1;33m)\u001b[0m\u001b[1;33m\u001b[0m\u001b[1;33m\u001b[0m\u001b[0m\n\u001b[0;32m      3\u001b[0m \u001b[0mget_ipython\u001b[0m\u001b[1;33m(\u001b[0m\u001b[1;33m)\u001b[0m\u001b[1;33m.\u001b[0m\u001b[0mrun_line_magic\u001b[0m\u001b[1;33m(\u001b[0m\u001b[1;34m'ls'\u001b[0m\u001b[1;33m,\u001b[0m \u001b[1;34m''\u001b[0m\u001b[1;33m)\u001b[0m\u001b[1;33m\u001b[0m\u001b[1;33m\u001b[0m\u001b[0m\n",
      "\u001b[1;31mModuleNotFoundError\u001b[0m: No module named 'google'"
     ]
    }
   ],
   "source": [
    "from google.colab import files\n",
    "uploaded = files.upload()\n",
    "%ls"
   ]
  },
  {
   "cell_type": "markdown",
   "metadata": {
    "id": "LZDpxE4jmFwA"
   },
   "source": [
    "# Import libraries \n",
    "Do not use any other Python library."
   ]
  },
  {
   "cell_type": "code",
   "execution_count": 162,
   "metadata": {
    "id": "m_1d0BPfmacB"
   },
   "outputs": [],
   "source": [
    "import numpy as np\n",
    "import matplotlib.pyplot as plt"
   ]
  },
  {
   "cell_type": "markdown",
   "metadata": {
    "id": "6keYhcgi7nbf"
   },
   "source": [
    "# Function: load_generalized_linear_regression_data\n",
    "\n",
    "This function loads the data for Generalized Linear Regression from a local drive into RAM\n",
    "\n",
    "Outputs:\n",
    "\n",
    "*   **train_inputs**: numpy array of N training data points x M features\n",
    "*   **train_targets**: numpy array of N training targets\n",
    "*   **test_inputs**: numpy array of N' test data points x M features\n",
    "*   **test_targets**: numpy array of N' test targets"
   ]
  },
  {
   "cell_type": "code",
   "execution_count": 163,
   "metadata": {
    "id": "vcG5U2lR7utt"
   },
   "outputs": [],
   "source": [
    "def load_generalized_linear_regression_data():\n",
    "  test_inputs = np.genfromtxt('non_linear_regression_dataset/test_inputs.csv', delimiter=',')\n",
    "  test_targets = np.genfromtxt('non_linear_regression_dataset/test_targets.csv', delimiter=',')\n",
    "  train_inputs = np.genfromtxt('non_linear_regression_dataset/train_inputs.csv', delimiter=',')\n",
    "  train_targets = np.genfromtxt('non_linear_regression_dataset/train_targets.csv', delimiter=',')\n",
    "  return train_inputs, train_targets, test_inputs, test_targets"
   ]
  },
  {
   "cell_type": "markdown",
   "metadata": {
    "id": "GwLo3p4f8bTa"
   },
   "source": [
    "# Function: predict_generalized_linear_regression\n",
    "\n",
    "This function uses a vector of weights to make predictions for a set of inputs.\n",
    "\n",
    "Inputs:\n",
    "*   **inputs**: matrix of input data points for which we want to make a prediction (numpy array of N data points x M' features)\n",
    "*   **weights**: vector of weights (numpy array of M' weights)\n",
    "\n",
    "Output:\n",
    "*   **predicted_values**: vector of predicted values (numpy array of N floats)"
   ]
  },
  {
   "cell_type": "code",
   "execution_count": 164,
   "metadata": {
    "id": "iX04_wClRqkV"
   },
   "outputs": [],
   "source": [
    "def predict_generalized_linear_regression(inputs, weights):\n",
    "  \n",
    "  # dummy assignment until the function is filled in\n",
    "  predicted_values = inputs @ weights.T\n",
    "  return predicted_values"
   ]
  },
  {
   "cell_type": "markdown",
   "metadata": {
    "id": "fmfPN7K0RtQ5"
   },
   "source": [
    "# Function eval_generalized_linear_regression\n",
    "\n",
    "This function evaluates a set of predictions by computing the mean squared error with respect to the targets\n",
    "\n",
    "Inputs:\n",
    "*   **inputs**: matrix of input data points for which we will evaluate the predictions (numpy array of N data points x M' features)\n",
    "*   **weights**: vector of weights (numpy array of M' weights)\n",
    "*   **targets**: vector of targets associated with the inputs (numpy array of N targets)\n",
    "\n",
    "Output:\n",
    "*   **mean_squared_error**: mean squared error between the predicted values and the targets (scalar)"
   ]
  },
  {
   "cell_type": "code",
   "execution_count": 248,
   "metadata": {
    "id": "wC14LEsvTxbu"
   },
   "outputs": [],
   "source": [
    "def eval_generalized_linear_regression(inputs, weights, targets):\n",
    "\n",
    "  # dummy assignment until the function is filled in\n",
    "  n = inputs.shape[0]\n",
    "  diff = targets - predict_generalized_linear_regression(inputs, weights) \n",
    "  mean_squared_error = 1/n * np.sum(diff**2)\n",
    "  \n",
    "  return mean_squared_error"
   ]
  },
  {
   "cell_type": "markdown",
   "metadata": {
    "id": "RMAzC5xXT0H-"
   },
   "source": [
    "# Function train_generalized_linear_regression\n",
    "\n",
    "This function optimizes a set of weights for generalized linear regression based on a training set\n",
    "\n",
    "Inputs:\n",
    "*   **train_inputs**: matrix of input training points (numpy array of N data points x M' features)\n",
    "*   **train_targets**: vector of targets associated with the inputs (numpy array of N targets)\n",
    "*   **lambda_hyperparam**: lambda hyperparameter used to adjust the importance of the regularizer (scalar)\n",
    "\n",
    "Output:\n",
    "*   **weights**: vector of weights that have been optimized (numpy array of M' weights)\n",
    "\n"
   ]
  },
  {
   "cell_type": "code",
   "execution_count": 352,
   "metadata": {
    "id": "_DkzoT5QVy41"
   },
   "outputs": [],
   "source": [
    "def train_generalized_linear_regression(train_inputs, train_targets, lambda_hyperparam):\n",
    "\n",
    "  # weights = np.zeros(train_inputs.shape)\n",
    "  x_bar = np.transpose(train_inputs)\n",
    "  A = x_bar.dot(np.transpose(x_bar)) \n",
    "  b = np.sum(train_targets * x_bar, axis=1)\n",
    "  weights = np.linalg.inv(A + lambda_hyperparam*np.eye(len(A))).dot(b)\n",
    "  return weights"
   ]
  },
  {
   "cell_type": "markdown",
   "metadata": {
    "id": "oIRUQG_C18EF"
   },
   "source": [
    "# Function monomial_features\n",
    "\n",
    "This function computes monomial basis functions up to degree $d$: $\\{\\prod_i (x_i)^{n_i} | \\sum_i n_i \\le d\\}$.  A monomial of degree\n",
    "less than or equal to $d$ is a product of variables (e.g., $\\prod_i (x_i)^{n_i}$ where the sum of their exponents is less\n",
    "than or equal to d (i.e., $\\sum_i n_i \\le d$).\n",
    "\n",
    "Inputs:\n",
    "*   **max_degree**: maximum degree d for the monomial basis functions (integer)\n",
    "*   **inputs**: matrix of input points (numpy array of N data points x M features)\n",
    "\n",
    "Output:\n",
    "*   **features**: matrix of data points in the new feature space induced by the monomial basis functions (numpy array of N data points x M' features)"
   ]
  },
  {
   "cell_type": "code",
   "execution_count": 357,
   "metadata": {
    "id": "xxqB0NyK2DTU"
   },
   "outputs": [],
   "source": [
    "def monomial_features(max_degree, inputs):\n",
    "\n",
    "  # For this  assignment, the inputs have 2 original features\n",
    "  x_1 = inputs[:,0].reshape((inputs.shape[0],1))\n",
    "  x_2 = inputs[:,1].reshape((inputs.shape[0],1))\n",
    "  \n",
    "  num_feature_term = np.math.factorial(max_degree+1)\n",
    "  features = []\n",
    "\n",
    "  for d in range(max_degree):\n",
    "    for i in range(d+1):\n",
    "        features.append(x_1**(d-i) * x_2**i)   \n",
    "    \n",
    "  features = np.asarray(features)\n",
    "  features = np.hstack(features)\n",
    "  # print(features[0])\n",
    "    \n",
    "  return features"
   ]
  },
  {
   "cell_type": "markdown",
   "metadata": {
    "id": "VYIbLxX7V2DW"
   },
   "source": [
    "# Function cross_validation_generalized_linear_regression\n",
    "\n",
    "This function performs k-fold cross validation to determine the best max degree of monomial basis functions in generalized linear regression\n",
    "\n",
    "Inputs:\n",
    "*   **k_folds**: # of folds in cross-validation (integer)\n",
    "*   **hyperparameters**: list of hyperparameters where each hyperparameter is a different max degree (list of integers)\n",
    "*   **inputs**: matrix of input points (numpy array of N data points by M' features)\n",
    "*   **targets**: vector of targets associated with the inputs (numpy array of N targets)\n",
    "\n",
    "Outputs:\n",
    "*   **best_hyperparam**: best max degree (integer)\n",
    "*   **best_mean_squared_error**: mean squared error achieved with best_hyperparam (float)\n",
    "*   **mean_squared_errors**: vector of mean squared errors for the corresponding hyperparameters (numpy array of floats)\n",
    "\n"
   ]
  },
  {
   "cell_type": "code",
   "execution_count": 358,
   "metadata": {
    "id": "_ZzoiZxLZMcV"
   },
   "outputs": [],
   "source": [
    "def cross_validation_generalized_linear_regression(k_folds, hyperparameters, inputs, targets):\n",
    "\n",
    "#   # dummy assignments until the function is filled in\n",
    "#   best_hyperparam = 0\n",
    "#   best_mean_squared_error = 0\n",
    "#   mean_squared_errors = np.zeros(len(hyperparameters))\n",
    "#   return best_hyperparam, best_mean_squared_error, mean_squared_errors\n",
    "\n",
    "\n",
    "  # dummy assignments until the function is filled in\n",
    "  best_hyperparam = 0\n",
    "  best_mean_squared_error = 0\n",
    "  mean_squared_errors = np.zeros(len(hyperparameters))\n",
    "  mean_squared_error = 0\n",
    "    \n",
    "  val_dataset = [None] * k_folds\n",
    "  val_target = [None] * k_folds\n",
    "  train_dataset = [None] * k_folds\n",
    "  train_target = [None] * k_folds\n",
    "    \n",
    "  for k in range(k_folds):\n",
    "    split_inputs = np.split(inputs, k_folds)\n",
    "    split_targets = np.split(targets, k_folds)\n",
    "    val_dataset[k] = split_inputs[k]\n",
    "    val_target[k] = split_targets[k]\n",
    "    \n",
    "    if(k != 0 and k != k_folds-1):\n",
    "        train_dataset[k] = np.concatenate((split_inputs[0:k], split_inputs[k+1:]))\n",
    "        train_target[k] = np.concatenate((split_targets[0:k], split_targets[k+1:]))\n",
    "    elif k == 0:\n",
    "        train_dataset[k] = np.asarray(split_inputs[k+1:])\n",
    "        train_target[k] = np.asarray(split_targets[k+1:])\n",
    "    elif k == k_folds-1:\n",
    "        train_dataset[k] = np.asarray(split_inputs[0:k])\n",
    "        train_target[k] = np.asarray(split_targets[0:k])\n",
    "        \n",
    "    train_dataset[k] = train_dataset[k].reshape(train_dataset[k].shape[0]*train_dataset[k].shape[1], train_dataset[k].shape[2])\n",
    "    train_target[k] = train_target[k].reshape(train_target[k].shape[0]*train_target[k].shape[1])\n",
    "    \n",
    "    \n",
    "  for lambda_index in range(len(hyperparameters)):\n",
    "    mean_squared_error = 0\n",
    "    \n",
    "    for k in range(k_folds):\n",
    "        # hyperparameters here is max_degree\n",
    "        monomial_train_input_features = monomial_features(hyperparameters[lambda_index], train_dataset[k])\n",
    "        monomial_val_input_features = monomial_features(hyperparameters[lambda_index], val_dataset[k])\n",
    "        # print(train_dataset[k])\n",
    "        # print(str(k)+ \": \" + str(monomial_train_input_features))\n",
    "        # print(monomial_train_input_features.shape)\n",
    "        \n",
    "        weights = train_generalized_linear_regression(monomial_train_input_features, train_target[k], lambda_hyperparam=1)\n",
    "        mean_squared_error += eval_generalized_linear_regression(monomial_val_input_features, weights, val_target[k])\n",
    "        \n",
    "    mean_squared_error /= k_folds\n",
    "    mean_squared_errors[lambda_index] = mean_squared_error\n",
    "  \n",
    "  best_hyperparam_index = mean_squared_errors.argmin()\n",
    "  best_hyperparam = hyperparameters[best_hyperparam_index]\n",
    "  best_mean_squared_error = mean_squared_errors[best_hyperparam_index]\n",
    "    \n",
    "  return best_hyperparam, best_mean_squared_error, mean_squared_errors"
   ]
  },
  {
   "cell_type": "markdown",
   "metadata": {
    "id": "_ah5AAayZfVU"
   },
   "source": [
    "# Function: plot_generalized_linear_regression_mean_squared_errors\n",
    "\n",
    "Function that plots the mean squared errors for different lambda values (hyperparameters) in linear regression based on cross validation\n",
    "\n",
    "Inputs:\n",
    "*   **mean_squared_errors**: vector of mean squared errors for the corresponding hyperparameters (numpy array of floats)\n",
    "*   **hyperparams**: list of hyperparameters where each hyperparameter is a different degree (list of floats)"
   ]
  },
  {
   "cell_type": "code",
   "execution_count": 359,
   "metadata": {
    "id": "dh9qZuzMatsZ"
   },
   "outputs": [],
   "source": [
    "def plot_generalized_linear_regression_mean_squared_errors(mean_squared_errors,hyperparams):\n",
    "  \n",
    "  plt.plot(hyperparams,mean_squared_errors)\n",
    "  plt.ylabel('mean squared error')\n",
    "  plt.xlabel('degree')\n",
    "  plt.show()"
   ]
  },
  {
   "cell_type": "markdown",
   "metadata": {
    "id": "s21LRP5Qb3m8"
   },
   "source": [
    "# Main Generalized Linear Regression code\n",
    "\n",
    "Load data.\n",
    "Use k-fold cross validation to find the best max degree of the monomial basis functions.\n",
    "Plot mean squared errors for different degrees.\n",
    "Test generalized linear regression with the best degree."
   ]
  },
  {
   "cell_type": "code",
   "execution_count": 365,
   "metadata": {
    "id": "njlK2bf7sycQ"
   },
   "outputs": [
    {
     "data": {
      "image/png": "[encoded data removed]",
      "text/plain": [
       "<Figure size 432x288 with 1 Axes>"
      ]
     },
     "metadata": {
      "needs_background": "light"
     },
     "output_type": "display_data"
    },
    {
     "name": "stdout",
     "output_type": "stream",
     "text": [
      "best degree: 14\n",
      "best cross validation mean squared error: 0.0802847312554659\n",
      "test mean squared error: 0.08348528861520063\n"
     ]
    }
   ],
   "source": [
    "# load data\n",
    "train_inputs, train_targets, test_inputs, test_targets = load_generalized_linear_regression_data()\n",
    "\n",
    "# hyperparams (degrees) to be evaluated by cross validation\n",
    "hyperparams = range(1,21)\n",
    "k_folds = 10\n",
    "best_degree, best_mean_squared_error, mean_squared_errors = \\\n",
    "  cross_validation_generalized_linear_regression(k_folds,hyperparams,train_inputs,train_targets)\n",
    "\n",
    "# plot results\n",
    "plot_generalized_linear_regression_mean_squared_errors(mean_squared_errors,hyperparams)\n",
    "print('best degree: ' + str (best_degree))\n",
    "print('best cross validation mean squared error: ' + str(best_mean_squared_error))\n",
    "\n",
    "# train and evaluate with best degree\n",
    "lambda_value = 1\n",
    "generalized_train_inputs = monomial_features(best_degree, train_inputs)\n",
    "generalized_test_inputs = monomial_features(best_degree, test_inputs)\n",
    "weights = train_generalized_linear_regression(generalized_train_inputs,train_targets,lambda_value)\n",
    "mean_squared_error = eval_generalized_linear_regression(generalized_test_inputs, weights, test_targets)\n",
    "print('test mean squared error: ' + str(mean_squared_error))\n",
    "\n"
   ]
  },
  {
   "cell_type": "code",
   "execution_count": null,
   "metadata": {},
   "outputs": [],
   "source": []
  },
  {
   "cell_type": "code",
   "execution_count": null,
   "metadata": {},
   "outputs": [],
   "source": []
  }
 ],
 "metadata": {
  "colab": {
   "name": "cs480_fall20_asst3_generalized_linear_regression_skeleton.ipynb",
   "provenance": []
  },
  "kernelspec": {
   "display_name": "Python 3",
   "language": "python",
   "name": "python3"
  },
  "language_info": {
   "codemirror_mode": {
    "name": "ipython",
    "version": 3
   },
   "file_extension": ".py",
   "mimetype": "text/x-python",
   "name": "python",
   "nbconvert_exporter": "python",
   "pygments_lexer": "ipython3",
   "version": "3.8.5"
  }
 },
 "nbformat": 4,
 "nbformat_minor": 1
}
