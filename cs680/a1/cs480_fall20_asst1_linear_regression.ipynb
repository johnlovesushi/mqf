{
 "cells": [
  {
   "cell_type": "markdown",
   "metadata": {
    "colab_type": "text",
    "id": "JFXZug066bJX"
   },
   "source": [
    "# Upload files in Google Colab\n",
    "If you are running this Jupyter Notebook on Google Colab, run this cell to upload the data files (train_inputs.csv, train_targets.csv, test_inputs.csv, test_targets.csv) in the colab virtual machine.  You will be prompted to select files that you would like to upload. \n",
    "\n",
    "If you are running this Jupyter Notebook on your computer, you do not need to run this cell."
   ]
  },
  {
   "cell_type": "code",
   "execution_count": null,
   "metadata": {
    "colab": {},
    "colab_type": "code",
    "id": "dqBJV_Br4XeI"
   },
   "outputs": [],
   "source": [
    "from google.colab import files\n",
    "uploaded = files.upload()\n",
    "%ls"
   ]
  },
  {
   "cell_type": "markdown",
   "metadata": {
    "colab_type": "text",
    "id": "LZDpxE4jmFwA"
   },
   "source": [
    "# Import libraries \n",
    "Do not use any other Python library."
   ]
  },
  {
   "cell_type": "code",
   "execution_count": 17,
   "metadata": {
    "colab": {},
    "colab_type": "code",
    "id": "m_1d0BPfmacB"
   },
   "outputs": [],
   "source": [
    "import numpy as np\n",
    "import matplotlib.pyplot as plt"
   ]
  },
  {
   "cell_type": "markdown",
   "metadata": {
    "colab_type": "text",
    "id": "6keYhcgi7nbf"
   },
   "source": [
    "# Function: load_linear_regression_data\n",
    "\n",
    "This function loads the data for Linear Regression from a local drive into RAM\n",
    "\n",
    "Outputs:\n",
    "\n",
    "*   **train_inputs**: numpy array of N training data points x M features\n",
    "*   **train_targets**: numpy array of N training targets\n",
    "*   **test_inputs**: numpy array of N' test data points x M features\n",
    "*   **test_targets**: numpy array of N' test targets"
   ]
  },
  {
   "cell_type": "code",
   "execution_count": 25,
   "metadata": {
    "colab": {},
    "colab_type": "code",
    "id": "vcG5U2lR7utt"
   },
   "outputs": [],
   "source": [
    "def load_linear_regression_data():\n",
    "  test_inputs = np.genfromtxt('regression-dataset/test_inputs.csv', delimiter=',')\n",
    "  test_targets = np.genfromtxt('regression-dataset/test_targets.csv', delimiter=',')\n",
    "  train_inputs = np.genfromtxt('regression-dataset/train_inputs.csv', delimiter=',')\n",
    "  train_targets = np.genfromtxt('regression-dataset/train_targets.csv', delimiter=',')\n",
    "  return train_inputs, train_targets, test_inputs, test_targets\n"
   ]
  },
  {
   "cell_type": "markdown",
   "metadata": {
    "colab_type": "text",
    "id": "GwLo3p4f8bTa"
   },
   "source": [
    "# Function: predict_linear_regression\n",
    "\n",
    "This function uses a vector of weights to make predictions for a set of inputs.\n",
    "\n",
    "Inputs:\n",
    "*   **inputs**: matrix of input data points for which we want to make a prediction (numpy array of N data points x M+1 features)\n",
    "*   **weights**: vector of weights (numpy array of M+1 weights)\n",
    "\n",
    "Output:\n",
    "*   **predicted_values**: vector of predicted values (numpy array of N floats)"
   ]
  },
  {
   "cell_type": "code",
   "execution_count": 26,
   "metadata": {
    "colab": {},
    "colab_type": "code",
    "id": "iX04_wClRqkV"
   },
   "outputs": [],
   "source": [
    "def predict_linear_regression(inputs, weights):\n",
    "\n",
    "  # dummy assignment until the function is filled in\n",
    "  predicted_values = np.zeros(inputs.shape[0])\n",
    "    \n",
    "  predicted_values = weights.dot(np.transpose(inputs))\n",
    "\n",
    "  return predicted_values"
   ]
  },
  {
   "cell_type": "markdown",
   "metadata": {
    "colab_type": "text",
    "id": "fmfPN7K0RtQ5"
   },
   "source": [
    "# Function eval_linear_regression\n",
    "\n",
    "This function evaluates a set of predictions by computing the mean squared error with respect to the targets\n",
    "\n",
    "Inputs:\n",
    "*   **inputs**: matrix of input data points for which we will evaluate the predictions (numpy array of N data points x M+1 features)\n",
    "*   **weights**: vector of weights (numpy array of M+1 weights)\n",
    "*   **targets**: vector of targets associated with the inputs (numpy array of N targets)\n",
    "\n",
    "Output:\n",
    "*   **mean_squared_error**: mean squared error between the predicted values and the targets (scalar)"
   ]
  },
  {
   "cell_type": "code",
   "execution_count": 27,
   "metadata": {
    "colab": {},
    "colab_type": "code",
    "id": "wC14LEsvTxbu"
   },
   "outputs": [],
   "source": [
    "def eval_linear_regression(inputs, weights, targets):\n",
    "\n",
    "  # dummy assignment until the function is filled in\n",
    "  mean_squared_error = 0\n",
    "  mean_squared_error = np.average((targets - predict_linear_regression(inputs, weights)) ** 2) \n",
    "  \n",
    "  return mean_squared_error"
   ]
  },
  {
   "cell_type": "markdown",
   "metadata": {
    "colab_type": "text",
    "id": "RMAzC5xXT0H-"
   },
   "source": [
    "# Function train_linear_regression\n",
    "\n",
    "This function optimizes a set of weights for linear regression based on a training set\n",
    "\n",
    "Inputs:\n",
    "*   **train_inputs**: matrix of input training points (numpy array of N data points x M+1 features)\n",
    "*   **train_targets**: vector of targets associated with the inputs (numpy array of N targets)\n",
    "*   **lambda_hyperparam**: lambda hyperparameter used to adjust the importance of the regularizer (scalar)\n",
    "\n",
    "Output:\n",
    "*   **weights**: vector of weights that have been optimized (numpy array of M+1 weights)\n",
    "\n"
   ]
  },
  {
   "cell_type": "code",
   "execution_count": 28,
   "metadata": {
    "colab": {},
    "colab_type": "code",
    "id": "_DkzoT5QVy41"
   },
   "outputs": [],
   "source": [
    "def train_linear_regression(train_inputs, train_targets, lambda_hyperparam):\n",
    "\n",
    "  # dummy assignment until the function is filled in\n",
    "  # weights = np.zeros(train_inputs.shape)\n",
    "  x_bar = np.transpose(train_inputs)\n",
    "  A = x_bar.dot(np.transpose(x_bar)) \n",
    "  b = np.sum(train_targets * x_bar, axis=1)\n",
    "  weights = np.linalg.inv(A + lambda_hyperparam*np.eye(len(A))).dot(b)\n",
    "  return weights"
   ]
  },
  {
   "cell_type": "markdown",
   "metadata": {
    "colab_type": "text",
    "id": "VYIbLxX7V2DW"
   },
   "source": [
    "# Function cross_validation_linear_regression\n",
    "\n",
    "This function performs k-fold cross validation to determine the best lambda hyperparameter in linear regression\n",
    "\n",
    "Inputs:\n",
    "*   **k_folds**: # of folds in cross-validation (integer)\n",
    "*   **hyperparameters**: list of hyperparameters where each hyperparameter is a different lambda value (list of floats)\n",
    "*   **inputs**: matrix of input points (numpy array of N data points by M+1 features)\n",
    "*   **targets**: vector of targets associated with the inputs (numpy array of N targets)\n",
    "\n",
    "Outputs:\n",
    "*   **best_hyperparam**: best lambda value for linear regression (float)\n",
    "*   **best_mean_squared_error**: mean squared error achieved with best_hyperparam (float)\n",
    "*   **mean_squared_errors**: vector of mean squared errors for the corresponding hyperparameters (numpy array of floats)\n",
    "\n"
   ]
  },
  {
   "cell_type": "code",
   "execution_count": 29,
   "metadata": {
    "colab": {},
    "colab_type": "code",
    "id": "_ZzoiZxLZMcV"
   },
   "outputs": [],
   "source": [
    "def cross_validation_linear_regression(k_folds, hyperparameters, inputs, targets):\n",
    "\n",
    "  # dummy assignments until the function is filled in\n",
    "  best_hyperparam = 0\n",
    "  best_mean_squared_error = 0\n",
    "  mean_squared_errors = np.zeros(len(hyperparameters))\n",
    "  mean_squared_error = 0\n",
    "    \n",
    "  val_dataset = [None] * k_folds\n",
    "  val_target = [None] * k_folds\n",
    "  train_dataset = [None] * k_folds\n",
    "  train_target = [None] * k_folds\n",
    "    \n",
    "  for k in range(k_folds):\n",
    "    split_inputs = np.split(inputs, k_folds)\n",
    "    split_targets = np.split(targets, k_folds)\n",
    "    val_dataset[k] = split_inputs[k]\n",
    "    val_target[k] = split_targets[k]\n",
    "    \n",
    "    if(k != 0 and k != k_folds-1):\n",
    "        train_dataset[k] = np.concatenate((split_inputs[0:k], split_inputs[k+1:]))\n",
    "        train_target[k] = np.concatenate((split_targets[0:k], split_targets[k+1:]))\n",
    "    elif k == 0:\n",
    "        train_dataset[k] = np.asarray(split_inputs[k+1:])\n",
    "        train_target[k] = np.asarray(split_targets[k+1:])\n",
    "    elif k == k_folds-1:\n",
    "        train_dataset[k] = np.asarray(split_inputs[0:k])\n",
    "        train_target[k] = np.asarray(split_targets[0:k])\n",
    "        \n",
    "    train_dataset[k] = train_dataset[k].reshape(train_dataset[k].shape[0]*train_dataset[k].shape[1], train_dataset[k].shape[2])\n",
    "    train_target[k] = train_target[k].reshape(train_target[k].shape[0]*train_target[k].shape[1])\n",
    "    \n",
    "    \n",
    "  for lambda_index in range(len(hyperparameters)):\n",
    "    mean_squared_error = 0\n",
    "    lambda_hyperparam = hyperparameters[lambda_index]\n",
    "    for k in range(k_folds):\n",
    "        weights = train_linear_regression(train_dataset[k], train_target[k], lambda_hyperparam)\n",
    "        mean_squared_error += eval_linear_regression(val_dataset[k], weights, val_target[k])\n",
    "    mean_squared_error /= k_folds\n",
    "    mean_squared_errors[lambda_index] = mean_squared_error\n",
    "  \n",
    "  best_hyperparam = mean_squared_errors.argmin()\n",
    "  best_mean_squared_error = mean_squared_errors[best_hyperparam]\n",
    "    \n",
    "  return best_hyperparam, best_mean_squared_error, mean_squared_errors"
   ]
  },
  {
   "cell_type": "markdown",
   "metadata": {
    "colab_type": "text",
    "id": "_ah5AAayZfVU"
   },
   "source": [
    "# Function: plot_linear_regression_mean_squared_errors\n",
    "\n",
    "Function that plots the mean squared errors for different lambda values (hyperparameters) in linear regression based on cross validation\n",
    "\n",
    "Inputs:\n",
    "*   **mean_squared_errors**: vector of mean squared errors for the corresponding hyperparameters (numpy array of floats)\n",
    "*   **hyperparams**: list of hyperparameters where each hyperparameter is a different lambda value (list of floats)"
   ]
  },
  {
   "cell_type": "code",
   "execution_count": 30,
   "metadata": {
    "colab": {},
    "colab_type": "code",
    "id": "dh9qZuzMatsZ"
   },
   "outputs": [],
   "source": [
    "def plot_linear_regression_mean_squared_errors(mean_squared_errors,hyperparams):\n",
    "  plt.plot(hyperparams,mean_squared_errors)\n",
    "  plt.ylabel('mean squared error')\n",
    "  plt.xlabel('lambda')\n",
    "  plt.show()"
   ]
  },
  {
   "cell_type": "markdown",
   "metadata": {
    "colab_type": "text",
    "id": "s21LRP5Qb3m8"
   },
   "source": [
    "# Main Linear Regression code\n",
    "\n",
    "Load data.\n",
    "Use k-fold cross validation to find the best lambda value for linear regression.\n",
    "Plot mean squared errors for different lambda values.\n",
    "Test linear regression with the best lambda value."
   ]
  },
  {
   "cell_type": "code",
   "execution_count": 31,
   "metadata": {
    "colab": {},
    "colab_type": "code",
    "id": "njlK2bf7sycQ",
    "scrolled": true
   },
   "outputs": [
    {
     "data": {
      "image/png": "[encoded data removed]",
      "text/plain": [
       "<Figure size 432x288 with 1 Axes>"
      ]
     },
     "metadata": {
      "needs_background": "light"
     },
     "output_type": "display_data"
    },
    {
     "name": "stdout",
     "output_type": "stream",
     "text": [
      "best lambda: 9\n",
      "best cross validation mean squared error: 1.346657677202169\n",
      "test mean squared error: 1.4823465780773883\n"
     ]
    }
   ],
   "source": [
    "# load data\n",
    "train_inputs, train_targets, test_inputs, test_targets = load_linear_regression_data()\n",
    "\n",
    "# add 1 at the end of each data point\n",
    "train_inputs = np.concatenate((train_inputs,np.ones((train_inputs.shape[0],1))),1)\n",
    "test_inputs = np.concatenate((test_inputs,np.ones((test_inputs.shape[0],1))),1)\n",
    "\n",
    "# lambda values to be evaluated by cross validation\n",
    "hyperparams = [0, 0.1, 0.2, 0.3, 0.4, 0.5, 0.6, 0.7, 0.8, 0.9, 1.0, 1.1, 1.2, 1.3, 1.4, 1.5, 1.6, 1.7, 1.8, 1.9, 2.0, 2.1, 2.2, 2.3, 2.4, 2.5, 2.6, 2.7, 2.8, 2.9, 3.0]\n",
    "k_folds = 10\n",
    "best_lambda, best_mean_squared_error, mean_squared_errors = cross_validation_linear_regression(k_folds,hyperparams,train_inputs,train_targets)\n",
    "\n",
    "# plot results\n",
    "plot_linear_regression_mean_squared_errors(mean_squared_errors,hyperparams)\n",
    "print('best lambda: ' + str (best_lambda))\n",
    "print('best cross validation mean squared error: ' + str(best_mean_squared_error))\n",
    "\n",
    "# train and evaluate with best lambda\n",
    "weights = train_linear_regression(train_inputs,train_targets,best_lambda)\n",
    "mean_squared_error = eval_linear_regression(test_inputs, weights, test_targets)\n",
    "print('test mean squared error: ' + str(mean_squared_error))\n",
    "\n"
   ]
  },
  {
   "cell_type": "code",
   "execution_count": null,
   "metadata": {},
   "outputs": [],
   "source": []
  },
  {
   "cell_type": "code",
   "execution_count": null,
   "metadata": {},
   "outputs": [],
   "source": []
  },
  {
   "cell_type": "code",
   "execution_count": null,
   "metadata": {},
   "outputs": [],
   "source": []
  }
 ],
 "metadata": {
  "colab": {
   "name": "cs480_fall20_asst1_linear_regression_skeleton.ipynb",
   "provenance": []
  },
  "kernelspec": {
   "display_name": "Python 3",
   "language": "python",
   "name": "python3"
  },
  "language_info": {
   "codemirror_mode": {
    "name": "ipython",
    "version": 3
   },
   "file_extension": ".py",
   "mimetype": "text/x-python",
   "name": "python",
   "nbconvert_exporter": "python",
   "pygments_lexer": "ipython3",
   "version": "3.7.3"
  }
 },
 "nbformat": 4,
 "nbformat_minor": 1
}
