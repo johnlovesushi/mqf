{
 "cells": [
  {
   "cell_type": "markdown",
   "metadata": {
    "colab_type": "text",
    "id": "JFXZug066bJX"
   },
   "source": [
    "# Upload files in Google Colab\n",
    "If you are running this Jupyter Notebook on Google Colab, run this cell to upload the data files (train_inputs.csv, train_labels.csv, test_inputs.csv, test_labels.csv) in the Colab virtual machine.  You will be prompted to select files that you would like to upload. \n",
    "\n",
    "If you are running this Jupyter Notebook on your computer, you do not need to run this cell."
   ]
  },
  {
   "cell_type": "code",
   "execution_count": 1,
   "metadata": {
    "colab": {},
    "colab_type": "code",
    "id": "dqBJV_Br4XeI"
   },
   "outputs": [
    {
     "ename": "ModuleNotFoundError",
     "evalue": "No module named 'google'",
     "output_type": "error",
     "traceback": [
      "\u001b[1;31m---------------------------------------------------------------------------\u001b[0m",
      "\u001b[1;31mModuleNotFoundError\u001b[0m                       Traceback (most recent call last)",
      "\u001b[1;32m<ipython-input-1-ece8c0ebce5e>\u001b[0m in \u001b[0;36m<module>\u001b[1;34m\u001b[0m\n\u001b[1;32m----> 1\u001b[1;33m \u001b[1;32mfrom\u001b[0m \u001b[0mgoogle\u001b[0m\u001b[1;33m.\u001b[0m\u001b[0mcolab\u001b[0m \u001b[1;32mimport\u001b[0m \u001b[0mfiles\u001b[0m\u001b[1;33m\u001b[0m\u001b[1;33m\u001b[0m\u001b[0m\n\u001b[0m\u001b[0;32m      2\u001b[0m \u001b[0muploaded\u001b[0m \u001b[1;33m=\u001b[0m \u001b[0mfiles\u001b[0m\u001b[1;33m.\u001b[0m\u001b[0mupload\u001b[0m\u001b[1;33m(\u001b[0m\u001b[1;33m)\u001b[0m\u001b[1;33m\u001b[0m\u001b[1;33m\u001b[0m\u001b[0m\n\u001b[0;32m      3\u001b[0m \u001b[0mget_ipython\u001b[0m\u001b[1;33m(\u001b[0m\u001b[1;33m)\u001b[0m\u001b[1;33m.\u001b[0m\u001b[0mrun_line_magic\u001b[0m\u001b[1;33m(\u001b[0m\u001b[1;34m'ls'\u001b[0m\u001b[1;33m,\u001b[0m \u001b[1;34m''\u001b[0m\u001b[1;33m)\u001b[0m\u001b[1;33m\u001b[0m\u001b[1;33m\u001b[0m\u001b[0m\n",
      "\u001b[1;31mModuleNotFoundError\u001b[0m: No module named 'google'"
     ]
    }
   ],
   "source": [
    "from google.colab import files\n",
    "uploaded = files.upload()\n",
    "%ls"
   ]
  },
  {
   "cell_type": "markdown",
   "metadata": {
    "colab_type": "text",
    "id": "LZDpxE4jmFwA"
   },
   "source": [
    "# Import libraries \n",
    "Do not use any other Python library."
   ]
  },
  {
   "cell_type": "code",
   "execution_count": 2,
   "metadata": {
    "colab": {},
    "colab_type": "code",
    "id": "m_1d0BPfmacB"
   },
   "outputs": [],
   "source": [
    "import numpy as np\n",
    "import matplotlib.pyplot as plt"
   ]
  },
  {
   "cell_type": "markdown",
   "metadata": {
    "colab_type": "text",
    "id": "NYesJygrmgHM"
   },
   "source": [
    "# Function: load_knn_data\n",
    "\n",
    "This function loads the data for KNN from a local drive into RAM\n",
    "\n",
    "Outputs:\n",
    "\n",
    "*   **train_inputs**: numpy array of N training data points x M features\n",
    "*   **train_labels**: numpy array of N training labels\n",
    "*   **test_inputs**: numpy array of N' test data points x M features\n",
    "*   **test_labels**: numpy array of N' test labels\n",
    "\n",
    "\n",
    "\n",
    "\n",
    "  \n",
    "\n"
   ]
  },
  {
   "cell_type": "code",
   "execution_count": 86,
   "metadata": {
    "colab": {},
    "colab_type": "code",
    "id": "7goFIgwnomoo"
   },
   "outputs": [],
   "source": [
    "def load_knn_data():\n",
    "  test_inputs = np.genfromtxt('knn-dataset/test_inputs.csv', delimiter=',')\n",
    "  test_labels = np.genfromtxt('knn-dataset/test_labels.csv', delimiter=',')\n",
    "  train_inputs = np.genfromtxt('knn-dataset/train_inputs.csv', delimiter=',')\n",
    "  train_labels = np.genfromtxt('knn-dataset/train_labels.csv', delimiter=',')\n",
    "  return train_inputs, train_labels, test_inputs, test_labels"
   ]
  },
  {
   "cell_type": "markdown",
   "metadata": {
    "colab_type": "text",
    "id": "Y87Mnf21owf0"
   },
   "source": [
    "# Function: predict_knn\n",
    "\n",
    "This function uses the KNN classifier to predict the label of a data point.\n",
    "\n",
    "Inputs:\n",
    "*   **x**: input data point for which we want to predict the label (numpy array of M features)\n",
    "*   **inputs**: matrix of data points in which neighbours will be found (numpy array of N data points x M features)\n",
    "*   **labels**: vector of labels associated with the data points  (numpy array of N labels)\n",
    "*   **k_neighbours**: # of nearest neighbours that will be used\n",
    "\n",
    "Output:\n",
    "*   **predicted_label**: predicted label (integer)\n",
    "\n",
    "\n"
   ]
  },
  {
   "cell_type": "code",
   "execution_count": 133,
   "metadata": {
    "colab": {},
    "colab_type": "code",
    "id": "MNXK7L5wpOEa"
   },
   "outputs": [],
   "source": [
    "def predict_knn(x, inputs, labels, k_neighbours):\n",
    "\n",
    "  # dummy assignment until the function is filled in\n",
    "  distances = np.empty(len(inputs))\n",
    "  distance_sum = 0\n",
    "\n",
    "  distance_matrix = (inputs - x)**2\n",
    "  distance_vector = np.sum(distance_matrix, axis=1)\n",
    "  sorted_distances_indices = np.argsort(distance_vector)\n",
    "\n",
    "  label_5 = 0\n",
    "  label_6 = 0\n",
    "    \n",
    "  for k in range(k_neighbours):\n",
    "        if labels[sorted_distances_indices[k]] == 5:\n",
    "            label_5 += 1\n",
    "        elif labels[sorted_distances_indices[k]] == 6:\n",
    "            label_6 += 1\n",
    "  \n",
    "  if label_5 >= label_6:\n",
    "        predicted_label = 5\n",
    "  else:\n",
    "        predicted_label = 6\n",
    "        \n",
    "  return predicted_label"
   ]
  },
  {
   "cell_type": "markdown",
   "metadata": {
    "colab_type": "text",
    "id": "I7bIamtprLxK"
   },
   "source": [
    "# Function: eval_knn\n",
    "\n",
    "Function that evaluates the accuracy of the KNN classifier on a dataset.  The dataset to be evaluated consists of (inputs, labels).  The dataset used to find nearest neighbours consists of (train_inputs, train_labels).\n",
    "\n",
    "Inputs:\n",
    "*   **inputs**: matrix of input data points to be evaluated (numpy array of N data points x M features)\n",
    "*   **labels**: vector of target labels for the inputs (numpy array of N labels)\n",
    "*   **train_inputs**: matrix of input data points in which neighbours will be found (numpy array of N' data points x M features)\n",
    "*   **train_labels**: vector of labels for the training inputs (numpy array of N' labels)\n",
    "*   **k_neighbours**: # of nearest neighbours to be used (integer)\n",
    "\n",
    "Outputs:\n",
    "*   **accuracy**: percentage of correctly labeled data points (float)\n",
    "\n",
    "\n"
   ]
  },
  {
   "cell_type": "code",
   "execution_count": 134,
   "metadata": {
    "colab": {},
    "colab_type": "code",
    "id": "MCQe7L8XrjdI"
   },
   "outputs": [],
   "source": [
    "def eval_knn(inputs, labels, train_inputs, train_labels, k_neighbours):\n",
    "\n",
    "  # dummy assignment until the function is filled in\n",
    "  correctly_predicted = 0\n",
    "  \n",
    "  for input_num in range(len(inputs)):\n",
    "    input_label = predict_knn(inputs[input_num], train_inputs, train_labels, k_neighbours)\n",
    "    if input_label == labels[input_num]:\n",
    "        correctly_predicted += 1\n",
    "    \n",
    "  accuracy = correctly_predicted/len(inputs)\n",
    "  #print(accuracy)\n",
    "\n",
    "  return accuracy"
   ]
  },
  {
   "cell_type": "markdown",
   "metadata": {
    "colab_type": "text",
    "id": "rXNO9nXb1beV"
   },
   "source": [
    "# Function: cross_validation_knn\n",
    "\n",
    "This function performs k-fold cross validation to determine the best number of neighbours for KNN.\n",
    "\n",
    "Inputs:\n",
    "*   **k_folds**: # of folds in cross-validation (integer)\n",
    "*   **hyperparameters**: list of hyperparameters where each hyperparameter is a different # of neighbours (list of integers)\n",
    "*   **inputs**: matrix of data points to be used when searching for neighbours (numpy array of N data points by M features)\n",
    "*   **labels**: vector of labels associated with the inputs (numpy array of N labels)\n",
    "\n",
    "Outputs:\n",
    "*   **best_hyperparam**: best # of neighbours for KNN (integer)\n",
    "*   **best_accuracy**: accuracy achieved with best_hyperparam (float)\n",
    "*   **accuracies**: vector of accuracies for the corresponding hyperparameters (numpy array of floats)\n",
    "\n",
    "\n",
    "\n"
   ]
  },
  {
   "cell_type": "code",
   "execution_count": 143,
   "metadata": {
    "colab": {},
    "colab_type": "code",
    "id": "VpHnYR3x1mFZ"
   },
   "outputs": [],
   "source": [
    "def cross_validation_knn(k_folds, hyperparameters, inputs, labels):\n",
    "  \n",
    "  # dummy assignments until the function is filled in\n",
    "  best_hyperparam = 0\n",
    "  best_accuracy = 0\n",
    "  acc_cross_val = 0\n",
    "  accuracies = np.zeros(len(hyperparameters))\n",
    "\n",
    "  acc_cross_total = 0\n",
    "  len_inputs = len(inputs)\n",
    "  len_val_set = len_inputs//k_folds\n",
    "\n",
    "  cross_val_datasets = [None] * k_folds\n",
    "  cross_val_labelsets = [None] * k_folds\n",
    "  train_datasets = [None] * k_folds\n",
    "  train_labelsets = [None] * k_folds\n",
    "    \n",
    "  # repeat the cross-validationk_folds times\n",
    "  for num_val_iter in range(k_folds):\n",
    "    concat_point_1 = (num_val_iter)*len_inputs//k_folds\n",
    "    concat_point_2 = (num_val_iter+1)*len_inputs//k_folds\n",
    "    \n",
    "    cross_val_datasets[num_val_iter] = inputs[concat_point_1: concat_point_2]\n",
    "    train_datasets[num_val_iter] = np.concatenate((inputs[0: concat_point_1], inputs[concat_point_2: ]))\n",
    "    \n",
    "    cross_val_labelsets[num_val_iter] = labels[concat_point_1: concat_point_2]\n",
    "    train_labelsets[num_val_iter] = np.concatenate((labels[0: concat_point_1], labels[concat_point_2: ]))\n",
    "    \n",
    "    \n",
    "  for k in hyperparameters:\n",
    "    acc_cross_val = 0\n",
    "    for val_datapoints, cross_val_labels, train_datapoints, train_label \\\n",
    "      in zip(cross_val_datasets, cross_val_labelsets, train_datasets, train_labelsets):\n",
    "        acc_cross_val += eval_knn(val_datapoints, cross_val_labels, train_datapoints, train_label, k)\n",
    "    acc_cross_val /= k_folds\n",
    "    # print(acc_cross_val)\n",
    "    \n",
    "    accuracies[k-1] = acc_cross_val\n",
    "    \n",
    "    if acc_cross_val > best_accuracy:\n",
    "        best_accuracy = acc_cross_val\n",
    "        best_hyperparam = k\n",
    "        \n",
    "  return best_hyperparam, best_accuracy, accuracies"
   ]
  },
  {
   "cell_type": "markdown",
   "metadata": {
    "colab_type": "text",
    "id": "qb31YTWg4rSm"
   },
   "source": [
    "# Function: plot_knn_accuracies\n",
    "\n",
    "Function that plots the KNN accuracies for different # of neighbours (hyperparameters) based on cross validation\n",
    "\n",
    "Inputs:\n",
    "*   **accuracies**: vector of accuracies for the corresponding hyperparameters (numpy array of floats)\n",
    "*   **hyperparams**: list of hyperparameters where each hyperparameter is a different # of neighbours (list of integers)\n"
   ]
  },
  {
   "cell_type": "code",
   "execution_count": 144,
   "metadata": {
    "colab": {},
    "colab_type": "code",
    "id": "MpbE_-Yt5HiI"
   },
   "outputs": [],
   "source": [
    "def plot_knn_accuracies(accuracies,hyperparams):\n",
    "  plt.plot(hyperparams,accuracies)\n",
    "  plt.ylabel('accuracy')\n",
    "  plt.xlabel('k neighbours')\n",
    "  plt.show()  "
   ]
  },
  {
   "cell_type": "markdown",
   "metadata": {
    "colab_type": "text",
    "id": "iF2YiZnMaws8"
   },
   "source": [
    "# Main KNN code\n",
    "\n",
    "Load data.\n",
    "Use k-fold cross validation to find the best # of neighbours for KNN.\n",
    "Plot accuracies for different # of neighbours.\n",
    "Test KNN with the best # of neighbours."
   ]
  },
  {
   "cell_type": "code",
   "execution_count": 145,
   "metadata": {
    "colab": {},
    "colab_type": "code",
    "id": "Qw6MLmQ8bpA1"
   },
   "outputs": [
    {
     "data": {
      "image/png": "[encoded data removed]",
      "text/plain": [
       "<Figure size 432x288 with 1 Axes>"
      ]
     },
     "metadata": {
      "needs_background": "light"
     },
     "output_type": "display_data"
    },
    {
     "name": "stdout",
     "output_type": "stream",
     "text": [
      "best # of neighbours k: 6\n",
      "best cross validation accuracy: 0.795\n",
      "test accuracy: 0.7818181818181819\n"
     ]
    }
   ],
   "source": [
    "# load data\n",
    "train_inputs, train_labels, test_inputs, test_labels = load_knn_data()\n",
    "\n",
    "# number of neighbours to be evaluated by cross validation\n",
    "hyperparams = range(1,31)\n",
    "k_folds = 10\n",
    "best_k_neighbours, best_accuracy, accuracies = cross_validation_knn(k_folds, hyperparams, train_inputs, train_labels)\n",
    "\n",
    "# plot results\n",
    "plot_knn_accuracies(accuracies, hyperparams)\n",
    "print('best # of neighbours k: ' + str(best_k_neighbours))\n",
    "print('best cross validation accuracy: ' + str(best_accuracy))\n",
    "\n",
    "# evaluate with best # of neighbours\n",
    "accuracy = eval_knn(test_inputs, test_labels, train_inputs, train_labels, best_k_neighbours)\n",
    "print('test accuracy: '+ str(accuracy))"
   ]
  }
 ],
 "metadata": {
  "colab": {
   "name": "cs480_fall20_asst1_knn_skeleton.ipynb",
   "provenance": []
  },
  "kernelspec": {
   "display_name": "Python 3 (ipykernel)",
   "language": "python",
   "name": "python3"
  },
  "language_info": {
   "codemirror_mode": {
    "name": "ipython",
    "version": 3
   },
   "file_extension": ".py",
   "mimetype": "text/x-python",
   "name": "python",
   "nbconvert_exporter": "python",
   "pygments_lexer": "ipython3",
   "version": "3.7.16"
  }
 },
 "nbformat": 4,
 "nbformat_minor": 1
}
