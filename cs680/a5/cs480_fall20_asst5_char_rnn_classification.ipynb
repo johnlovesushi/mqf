{
 "cells": [
  {
   "cell_type": "markdown",
   "metadata": {
    "id": "o3UFgeUebGKo"
   },
   "source": [
    "Download the data"
   ]
  },
  {
   "cell_type": "code",
   "execution_count": 11,
   "metadata": {
    "colab": {
     "base_uri": "https://localhost:8080/"
    },
    "id": "P6BH8Bgpa_ZS",
    "outputId": "2ae0fa0b-8beb-4e3e-a1fe-0ce49f9f4987"
   },
   "outputs": [
    {
     "name": "stdout",
     "output_type": "stream",
     "text": [
      "--2020-11-09 10:00:37--  https://download.pytorch.org/tutorial/data.zip\n",
      "Resolving download.pytorch.org (download.pytorch.org)... 52.85.224.54, 52.85.224.11, 52.85.224.68, ...\n",
      "Connecting to download.pytorch.org (download.pytorch.org)|52.85.224.54|:443... connected.\n",
      "HTTP request sent, awaiting response... 200 OK\n",
      "Length: 2882130 (2.7M) [application/zip]\n",
      "Saving to: ‘data.zip.1’\n",
      "\n",
      "\r",
      "data.zip.1            0%[                    ]       0  --.-KB/s               \r",
      "data.zip.1          100%[===================>]   2.75M  --.-KB/s    in 0.08s   \n",
      "\n",
      "2020-11-09 10:00:37 (34.0 MB/s) - ‘data.zip.1’ saved [2882130/2882130]\n",
      "\n",
      "Archive:  data.zip\n",
      "replace data/eng-fra.txt? [y]es, [n]o, [A]ll, [N]one, [r]ename: y\n",
      "  inflating: data/eng-fra.txt        \n",
      "replace data/names/Arabic.txt? [y]es, [n]o, [A]ll, [N]one, [r]ename: y\n",
      "  inflating: data/names/Arabic.txt   \n",
      "replace data/names/Chinese.txt? [y]es, [n]o, [A]ll, [N]one, [r]ename: a\n",
      "error:  invalid response [a]\n",
      "replace data/names/Chinese.txt? [y]es, [n]o, [A]ll, [N]one, [r]ename: a\n",
      "error:  invalid response [a]\n",
      "replace data/names/Chinese.txt? [y]es, [n]o, [A]ll, [N]one, [r]ename: A\n",
      "  inflating: data/names/Chinese.txt  \n",
      "  inflating: data/names/Czech.txt    \n",
      "  inflating: data/names/Dutch.txt    \n",
      "  inflating: data/names/English.txt  \n",
      "  inflating: data/names/French.txt   \n",
      "  inflating: data/names/German.txt   \n",
      "  inflating: data/names/Greek.txt    \n",
      "  inflating: data/names/Irish.txt    \n",
      "  inflating: data/names/Italian.txt  \n",
      "  inflating: data/names/Japanese.txt  \n",
      "  inflating: data/names/Korean.txt   \n",
      "  inflating: data/names/Polish.txt   \n",
      "  inflating: data/names/Portuguese.txt  \n",
      "  inflating: data/names/Russian.txt  \n",
      "  inflating: data/names/Scottish.txt  \n",
      "  inflating: data/names/Spanish.txt  \n",
      "  inflating: data/names/Vietnamese.txt  \n",
      "data  data.zip\tdata.zip.1  sample_data\n"
     ]
    }
   ],
   "source": [
    "!wget https://download.pytorch.org/tutorial/data.zip\n",
    "!unzip data.zip\n",
    "!ls"
   ]
  },
  {
   "cell_type": "code",
   "execution_count": 12,
   "metadata": {
    "id": "IGZLdMtDUfxu"
   },
   "outputs": [],
   "source": [
    "%matplotlib inline"
   ]
  },
  {
   "cell_type": "markdown",
   "metadata": {
    "id": "KNkkHixNUfxz"
   },
   "source": [
    "\n",
    "Classifying Names with a Character-Level RNN\n",
    "*********************************************\n",
    "**Author**: `Sean Robertson <https://github.com/spro/practical-pytorch>`_\n",
    "\n",
    "We will be building and training a basic character-level RNN to classify\n",
    "words. A character-level RNN reads words as a series of characters -\n",
    "outputting a prediction and \"hidden state\" at each step, feeding its\n",
    "previous hidden state into each next step. We take the final prediction\n",
    "to be the output, i.e. which class the word belongs to.\n",
    "\n",
    "Specifically, we'll train on a few thousand surnames from 18 languages\n",
    "of origin, and predict which language a name is from based on the\n",
    "spelling:\n",
    "\n",
    "::\n",
    "\n",
    "    $ python predict.py Hinton\n",
    "    (-0.47) Scottish\n",
    "    (-1.52) English\n",
    "    (-3.57) Irish\n",
    "\n",
    "    $ python predict.py Schmidhuber\n",
    "    (-0.19) German\n",
    "    (-2.48) Czech\n",
    "    (-2.68) Dutch\n",
    "\n",
    "\n",
    "**Recommended Reading:**\n",
    "\n",
    "I assume you have at least installed PyTorch, know Python, and\n",
    "understand Tensors:\n",
    "\n",
    "-  http://pytorch.org/ For installation instructions\n",
    "-  :doc:`/beginner/deep_learning_60min_blitz` to get started with PyTorch in general\n",
    "-  :doc:`/beginner/pytorch_with_examples` for a wide and deep overview\n",
    "-  :doc:`/beginner/former_torchies_tutorial` if you are former Lua Torch user\n",
    "\n",
    "It would also be useful to know about RNNs and how they work:\n",
    "\n",
    "-  `The Unreasonable Effectiveness of Recurrent Neural\n",
    "   Networks <http://karpathy.github.io/2015/05/21/rnn-effectiveness/>`__\n",
    "   shows a bunch of real life examples\n",
    "-  `Understanding LSTM\n",
    "   Networks <http://colah.github.io/posts/2015-08-Understanding-LSTMs/>`__\n",
    "   is about LSTMs specifically but also informative about RNNs in\n",
    "   general\n",
    "\n",
    "Preparing the Data\n",
    "==================\n",
    "\n",
    ".. Note::\n",
    "   Download the data from\n",
    "   `here <https://download.pytorch.org/tutorial/data.zip>`_\n",
    "   and extract it to the current directory.\n",
    "\n",
    "Included in the ``data/names`` directory are 18 text files named as\n",
    "\"[Language].txt\". Each file contains a bunch of names, one name per\n",
    "line, mostly romanized (but we still need to convert from Unicode to\n",
    "ASCII).\n",
    "\n",
    "We'll end up with a dictionary of lists of names per language,\n",
    "``{language: [names ...]}``. The generic variables \"category\" and \"line\"\n",
    "(for language and name in our case) are used for later extensibility.\n",
    "\n"
   ]
  },
  {
   "cell_type": "code",
   "execution_count": 13,
   "metadata": {
    "colab": {
     "base_uri": "https://localhost:8080/"
    },
    "id": "MfLSXwTHUfxz",
    "outputId": "ad6a2cab-fc9f-444b-9585-3e67c44df433"
   },
   "outputs": [
    {
     "name": "stdout",
     "output_type": "stream",
     "text": [
      "['data/names/Portuguese.txt', 'data/names/Irish.txt', 'data/names/Greek.txt', 'data/names/German.txt', 'data/names/Japanese.txt', 'data/names/Arabic.txt', 'data/names/Scottish.txt', 'data/names/Dutch.txt', 'data/names/English.txt', 'data/names/Vietnamese.txt', 'data/names/Czech.txt', 'data/names/Spanish.txt', 'data/names/Chinese.txt', 'data/names/French.txt', 'data/names/Polish.txt', 'data/names/Korean.txt', 'data/names/Italian.txt', 'data/names/Russian.txt']\n",
      "AslusA rski\n"
     ]
    }
   ],
   "source": [
    "from __future__ import unicode_literals, print_function, division\n",
    "from io import open\n",
    "import glob\n",
    "import os\n",
    "import random\n",
    "\n",
    "def findFiles(path): return glob.glob(path)\n",
    "\n",
    "print(findFiles('data/names/*.txt'))\n",
    "\n",
    "import unicodedata\n",
    "import string\n",
    "import math\n",
    "\n",
    "all_letters = string.ascii_letters + \" .,;'\"\n",
    "n_letters = len(all_letters)\n",
    "\n",
    "# Turn a Unicode string to plain ASCII, thanks to http://stackoverflow.com/a/518232/2809427\n",
    "def unicodeToAscii(s):\n",
    "    return ''.join(\n",
    "        c for c in unicodedata.normalize('NFD', s)\n",
    "        if unicodedata.category(c) != 'Mn'\n",
    "        and c in all_letters\n",
    "    )\n",
    "\n",
    "print(unicodeToAscii('ÅšlusÃ rski'))\n",
    "\n",
    "# Build the category_lines dictionary, a list of names per language\n",
    "category_lines = {}\n",
    "train_data = {}\n",
    "validation_data = {}\n",
    "test_data = {}\n",
    "all_categories = []\n",
    "\n",
    "# Read a file and split into lines\n",
    "def readLines(filename):\n",
    "    lines = open(filename, encoding='utf-8').read().strip().split('\\n')\n",
    "    return [unicodeToAscii(line) for line in lines]\n",
    "\n",
    "for filename in findFiles('data/names/*.txt'):\n",
    "    category = os.path.splitext(os.path.basename(filename))[0]\n",
    "    all_categories.append(category)\n",
    "    lines = readLines(filename)\n",
    "    random.shuffle(lines)\n",
    "    train_data[category] = lines[0:int(math.floor(0.7*len(lines)))]\n",
    "    validation_data[category] = lines[int(math.floor(0.7*len(lines)))+1:int(math.floor(0.85*len(lines)))]\n",
    "    test_data[category] = lines[int(math.floor(0.85*len(lines)))+1:]\n",
    "    category_lines[category] = lines\n",
    "\n",
    "n_categories = len(all_categories)"
   ]
  },
  {
   "cell_type": "markdown",
   "metadata": {
    "id": "lPlBRkDuUfx2"
   },
   "source": [
    "Now we have ``category_lines``, a dictionary mapping each category\n",
    "(language) to a list of lines (names). We also kept track of\n",
    "``all_categories`` (just a list of languages) and ``n_categories`` for\n",
    "later reference.\n",
    "\n",
    "\n"
   ]
  },
  {
   "cell_type": "code",
   "execution_count": 14,
   "metadata": {
    "colab": {
     "base_uri": "https://localhost:8080/"
    },
    "id": "VKlnBNIjUfx2",
    "outputId": "f491e43d-c405-4506-88b1-09d4cd498b56"
   },
   "outputs": [
    {
     "name": "stdout",
     "output_type": "stream",
     "text": [
      "['Aiello', 'Aliberti', 'Lama', 'Martinelli', 'Sciarra']\n"
     ]
    }
   ],
   "source": [
    "print(category_lines['Italian'][:5])"
   ]
  },
  {
   "cell_type": "markdown",
   "metadata": {
    "id": "I5SGUIMRUfx4"
   },
   "source": [
    "Turning Names into Tensors\n",
    "--------------------------\n",
    "\n",
    "Now that we have all the names organized, we need to turn them into\n",
    "Tensors to make any use of them.\n",
    "\n",
    "To represent a single letter, we use a \"one-hot vector\" of size\n",
    "``<1 x n_letters>``. A one-hot vector is filled with 0s except for a 1\n",
    "at index of the current letter, e.g. ``\"b\" = <0 1 0 0 0 ...>``.\n",
    "\n",
    "To make a word we join a bunch of those into a 2D matrix\n",
    "``<line_length x 1 x n_letters>``.\n",
    "\n",
    "That extra 1 dimension is because PyTorch assumes everything is in\n",
    "batches - we're just using a batch size of 1 here.\n",
    "\n",
    "\n"
   ]
  },
  {
   "cell_type": "code",
   "execution_count": 15,
   "metadata": {
    "colab": {
     "base_uri": "https://localhost:8080/"
    },
    "id": "SPFamDJVUfx5",
    "outputId": "654d9ac6-02d8-4354-99d8-319fa0dee8fc"
   },
   "outputs": [
    {
     "name": "stdout",
     "output_type": "stream",
     "text": [
      "tensor([[0., 0., 0., 0., 0., 0., 0., 0., 0., 0., 0., 0., 0., 0., 0., 0., 0., 0.,\n",
      "         0., 0., 0., 0., 0., 0., 0., 0., 0., 0., 0., 0., 0., 0., 0., 0., 0., 1.,\n",
      "         0., 0., 0., 0., 0., 0., 0., 0., 0., 0., 0., 0., 0., 0., 0., 0., 0., 0.,\n",
      "         0., 0., 0.]])\n",
      "torch.Size([5, 1, 57])\n"
     ]
    }
   ],
   "source": [
    "import torch\n",
    "\n",
    "# Find letter index from all_letters, e.g. \"a\" = 0\n",
    "def letterToIndex(letter):\n",
    "    return all_letters.find(letter)\n",
    "\n",
    "# Just for demonstration, turn a letter into a <1 x n_letters> Tensor\n",
    "def letterToTensor(letter):\n",
    "    tensor = torch.zeros(1, n_letters)\n",
    "    tensor[0][letterToIndex(letter)] = 1\n",
    "    return tensor\n",
    "\n",
    "# Turn a line into a <line_length x 1 x n_letters>,\n",
    "# or an array of one-hot letter vectors\n",
    "def lineToTensor(line):\n",
    "    tensor = torch.zeros(len(line), 1, n_letters)\n",
    "    for li, letter in enumerate(line):\n",
    "        tensor[li][0][letterToIndex(letter)] = 1\n",
    "    return tensor\n",
    "\n",
    "print(letterToTensor('J'))\n",
    "\n",
    "print(lineToTensor('Jones').size())"
   ]
  },
  {
   "cell_type": "markdown",
   "metadata": {
    "id": "FBQkCWy_Ufx7"
   },
   "source": [
    "Creating the Network\n",
    "====================\n",
    "\n",
    "Before autograd, creating a recurrent neural network in Torch involved\n",
    "cloning the parameters of a layer over several timesteps. The layers\n",
    "held hidden state and gradients which are now entirely handled by the\n",
    "graph itself. This means you can implement a RNN in a very \"pure\" way,\n",
    "as regular feed-forward layers.\n",
    "\n",
    "This RNN module (mostly copied from `the PyTorch for Torch users\n",
    "tutorial <http://pytorch.org/tutorials/beginner/former_torchies/\n",
    "nn_tutorial.html#example-2-recurrent-net>`__)\n",
    "is just 2 linear layers which operate on an input and hidden state, with\n",
    "a LogSoftmax layer after the output.\n",
    "\n",
    ".. figure:: https://i.imgur.com/Z2xbySO.png\n",
    "   :alt:\n",
    "\n",
    "\n",
    "\n"
   ]
  },
  {
   "cell_type": "code",
   "execution_count": 78,
   "metadata": {
    "id": "nAJSP2rTUfx8"
   },
   "outputs": [],
   "source": [
    "import torch.nn as nn\n",
    "from torch.autograd import Variable\n",
    "\n",
    "class RNN(nn.Module):\n",
    "    def __init__(self, input_size, hidden_size, output_size):\n",
    "        super(RNN, self).__init__()\n",
    "\n",
    "        self.hidden_size = hidden_size\n",
    "\n",
    "        self.i2h = nn.Linear(input_size + hidden_size, hidden_size)\n",
    "        self.i2o = nn.Linear(input_size + hidden_size, output_size)\n",
    "        self.softmax = nn.LogSoftmax(dim=1)\n",
    "\n",
    "    def forward(self, input, hidden):\n",
    "        combined = torch.cat((input, hidden), 1)\n",
    "        hidden = self.i2h(combined)\n",
    "        output = self.i2o(combined)\n",
    "        output = self.softmax(output)\n",
    "        return output, hidden\n",
    "\n",
    "    def initHidden(self):\n",
    "        return torch.zeros(1, self.hidden_size)\n",
    "\n",
    "\n",
    "class RNN_LSTM(nn.Module):\n",
    "    def __init__(self, input_size, hidden_size, cell_size, output_size):\n",
    "        super(RNN_LSTM, self).__init__()\n",
    "\n",
    "        self.hidden_size = hidden_size\n",
    "        self.cell_size = hidden_size\n",
    "        self.output_size = output_size\n",
    "\n",
    "        self.i2h = nn.LSTMCell(input_size + hidden_size + cell_size, hidden_size)\n",
    "        # i2o is not necessary for LSTM, but to keep a fair comparison with RNN, we keep it \n",
    "        self.i2o = nn.Linear(input_size + hidden_size, output_size)\n",
    "        self.softmax = nn.LogSoftmax(dim=1)\n",
    "\n",
    "    def forward(self, input, hidden, cell):\n",
    "        combined_o = torch.cat((input, hidden), 1)\n",
    "        combined_hc = torch.cat((input, hidden, cell), 1)\n",
    "        hidden, cell = self.i2h(combined_hc, (hidden,  cell))\n",
    "        output = self.i2o(combined_o)\n",
    "        output = self.softmax(output)\n",
    "        return output, hidden, cell\n",
    "\n",
    "    def initHidden(self):\n",
    "        return torch.zeros(1, self.hidden_size)\n",
    "\n",
    "    def initCell(self):\n",
    "        return torch.zeros(1, self.cell_size)\n",
    "\n",
    "\n",
    "class RNN_GRU(nn.Module):\n",
    "    def __init__(self, input_size, hidden_size, output_size):\n",
    "        super(RNN_GRU, self).__init__()\n",
    "\n",
    "        self.hidden_size = hidden_size\n",
    "\n",
    "        self.i2h = nn.GRUCell(input_size + hidden_size, hidden_size)\n",
    "        self.i2o = nn.Linear(input_size + hidden_size, output_size)\n",
    "        self.softmax = nn.LogSoftmax(dim=1)\n",
    "\n",
    "    def forward(self, input, hidden):\n",
    "        combined = torch.cat((input, hidden), 1)\n",
    "        hidden = self.i2h(combined, hidden)\n",
    "        output = self.i2o(combined)\n",
    "        output = self.softmax(output)\n",
    "        return output, hidden\n",
    "\n",
    "    def initHidden(self):\n",
    "        return torch.zeros(1, self.hidden_size)\n",
    "\n",
    "\n",
    "n_hidden = 128\n",
    "n_cell = 128\n",
    "rnn = RNN(n_letters, n_hidden, n_categories)      \n",
    "rnn_lstm = RNN_LSTM(n_letters, n_hidden, n_cell, n_categories)\n",
    "rnn_gru = RNN_GRU(n_letters, n_hidden, n_categories)"
   ]
  },
  {
   "cell_type": "markdown",
   "metadata": {
    "id": "fhxOqo0mUfx-"
   },
   "source": [
    "To run a step of this network we need to pass an input (in our case, the\n",
    "Tensor for the current letter) and a previous hidden state (which we\n",
    "initialize as zeros at first). We'll get back the output (probability of\n",
    "each language) and a next hidden state (which we keep for the next\n",
    "step).\n",
    "\n",
    "\n"
   ]
  },
  {
   "cell_type": "code",
   "execution_count": 25,
   "metadata": {
    "id": "5zjQ-ZXbUfx-"
   },
   "outputs": [],
   "source": [
    "input = letterToTensor('A')\n",
    "hidden = torch.zeros(1, n_hidden)\n",
    "cell = torch.zeros(1, n_hidden)\n",
    "\n",
    "output, next_hidden = rnn(input, hidden)"
   ]
  },
  {
   "cell_type": "markdown",
   "metadata": {
    "id": "juc150V5UfyB"
   },
   "source": [
    "For the sake of efficiency we don't want to be creating a new Tensor for\n",
    "every step, so we will use ``lineToTensor`` instead of\n",
    "``letterToTensor`` and use slices. This could be further optimized by\n",
    "pre-computing batches of Tensors.\n",
    "\n",
    "\n"
   ]
  },
  {
   "cell_type": "code",
   "execution_count": 26,
   "metadata": {
    "colab": {
     "base_uri": "https://localhost:8080/"
    },
    "id": "hLpj5ZVPUfyB",
    "outputId": "ff332ad9-2dbf-4cab-ebf8-72f65ee6e0bb"
   },
   "outputs": [
    {
     "name": "stdout",
     "output_type": "stream",
     "text": [
      "tensor([[-2.9017, -2.8977, -2.9467, -2.8241, -2.8624, -2.8690, -2.9659, -2.8280,\n",
      "         -2.9882, -2.9214, -2.9772, -2.9043, -2.8940, -2.8664, -2.9077, -2.9680,\n",
      "         -2.8001, -2.7412]], grad_fn=<LogSoftmaxBackward>)\n"
     ]
    }
   ],
   "source": [
    "input = lineToTensor('Albert')\n",
    "hidden = torch.zeros(1, n_hidden)\n",
    "cell = torch.zeros(1, n_hidden)\n",
    "\n",
    "output, next_hidden = rnn(input[0], hidden)\n",
    "output, next_hidden, next_cell = rnn_lstm(input[0], hidden, cell)\n",
    "output, next_hidden = rnn_gru(input[0], hidden)\n",
    "print(output)"
   ]
  },
  {
   "cell_type": "markdown",
   "metadata": {
    "id": "Wy0E3nCjUfyE"
   },
   "source": [
    "As you can see the output is a ``<1 x n_categories>`` Tensor, where\n",
    "every item is the likelihood of that category (higher is more likely).\n",
    "\n",
    "\n"
   ]
  },
  {
   "cell_type": "markdown",
   "metadata": {
    "id": "ukMo68ApUfyF"
   },
   "source": [
    "Training\n",
    "========\n",
    "Preparing for Training\n",
    "----------------------\n",
    "\n",
    "Before going into training we should make a few helper functions. The\n",
    "first is to interpret the output of the network, which we know to be a\n",
    "likelihood of each category. We can use ``Tensor.topk`` to get the index\n",
    "of the greatest value:\n",
    "\n",
    "\n"
   ]
  },
  {
   "cell_type": "code",
   "execution_count": 27,
   "metadata": {
    "colab": {
     "base_uri": "https://localhost:8080/"
    },
    "id": "bFY_yAVKUfyG",
    "outputId": "dafb3d1c-278d-454e-9366-c69cfd996681"
   },
   "outputs": [
    {
     "name": "stdout",
     "output_type": "stream",
     "text": [
      "('Russian', 17)\n"
     ]
    }
   ],
   "source": [
    "def categoryFromOutput(output):\n",
    "    top_n, top_i = output.topk(1)\n",
    "    category_i = top_i[0].item()\n",
    "    return all_categories[category_i], category_i\n",
    "\n",
    "print(categoryFromOutput(output))"
   ]
  },
  {
   "cell_type": "markdown",
   "metadata": {
    "id": "mdDJjeS5UfyJ"
   },
   "source": [
    "We will also want a quick way to get a training example (a name and its\n",
    "language):\n",
    "\n",
    "\n"
   ]
  },
  {
   "cell_type": "code",
   "execution_count": 28,
   "metadata": {
    "colab": {
     "base_uri": "https://localhost:8080/"
    },
    "id": "nTNx73poUfyK",
    "outputId": "24f26823-a53d-4011-ff0d-036edae699a6"
   },
   "outputs": [
    {
     "name": "stdout",
     "output_type": "stream",
     "text": [
      "category = Irish / line = Doyle\n",
      "category = German / line = Sulzbach\n",
      "category = Arabic / line = Abboud\n",
      "category = Dutch / line = Seelen\n",
      "category = Czech / line = Dempko\n",
      "category = Korean / line = Cha\n",
      "category = Irish / line = Rodagh\n",
      "category = Arabic / line = Guirguis\n",
      "category = French / line = Tailler\n",
      "category = Scottish / line = Kerr\n"
     ]
    }
   ],
   "source": [
    "import random\n",
    "\n",
    "def randomChoice(l):\n",
    "    return l[random.randint(0, len(l) - 1)]\n",
    "\n",
    "def randomTrainingExample():\n",
    "    category = randomChoice(all_categories)\n",
    "    line = randomChoice(train_data[category])\n",
    "    category_tensor = torch.tensor([all_categories.index(category)], dtype=torch.long)\n",
    "    line_tensor = lineToTensor(line)\n",
    "    return category, line, category_tensor, line_tensor\n",
    "\n",
    "for i in range(10):\n",
    "    category, line, category_tensor, line_tensor = randomTrainingExample()\n",
    "    print('category =', category, '/ line =', line)"
   ]
  },
  {
   "cell_type": "markdown",
   "metadata": {
    "id": "Z4gnruWLUfyM"
   },
   "source": [
    "Training the Network\n",
    "--------------------\n",
    "\n",
    "Now all it takes to train this network is show it a bunch of examples,\n",
    "have it make guesses, and tell it if it's wrong.\n",
    "\n",
    "For the loss function ``nn.NLLLoss`` is appropriate, since the last\n",
    "layer of the RNN is ``nn.LogSoftmax``.\n",
    "\n",
    "\n"
   ]
  },
  {
   "cell_type": "code",
   "execution_count": 29,
   "metadata": {
    "id": "b91CnzJPUfyM"
   },
   "outputs": [],
   "source": [
    "criterion = nn.NLLLoss()"
   ]
  },
  {
   "cell_type": "markdown",
   "metadata": {
    "id": "FAp0xov1UfyP"
   },
   "source": [
    "Each loop of training will:\n",
    "\n",
    "-  Create input and target tensors\n",
    "-  Create a zeroed initial hidden state\n",
    "-  Read each letter in and\n",
    "\n",
    "   -  Keep hidden state for next letter\n",
    "\n",
    "-  Compare final output to target\n",
    "-  Back-propagate\n",
    "-  Return the output and loss\n",
    "\n",
    "\n"
   ]
  },
  {
   "cell_type": "code",
   "execution_count": 82,
   "metadata": {
    "id": "ED_i2_CWUfyP"
   },
   "outputs": [],
   "source": [
    "optimizer_RNN = torch.optim.Adam(rnn.parameters())\n",
    "optimizer_RNN_LSTM = torch.optim.Adam(rnn_lstm.parameters())\n",
    "optimizer_RNN_GRU = torch.optim.Adam(rnn_gru.parameters())\n",
    "\n",
    "def train_RNN(category_tensor, line_tensor):\n",
    "    hidden = rnn.initHidden()\n",
    "\n",
    "    # reset gradient\n",
    "    rnn.zero_grad()\n",
    "\n",
    "    for i in range(line_tensor.size()[0]):\n",
    "        output, hidden = rnn(line_tensor[i], hidden)\n",
    "    loss = criterion(output, category_tensor)\n",
    "\n",
    "    # compute gradient by backpropagation\n",
    "    loss.backward()\n",
    "\n",
    "    # update parameters\n",
    "    optimizer_RNN.step()\n",
    "\n",
    "    return output, loss.item()\n",
    "\n",
    "\n",
    "def train_RNN_LSTM(category_tensor, line_tensor):\n",
    "    hidden = rnn_lstm.initHidden()\n",
    "    cell = rnn_lstm.initCell()\n",
    "\n",
    "    # reset gradient\n",
    "    rnn_lstm.zero_grad()\n",
    "\n",
    "    for i in range(line_tensor.size()[0]):\n",
    "        output, hidden, cell = rnn_lstm(line_tensor[i], hidden, cell)\n",
    "\n",
    "    loss = criterion(output, category_tensor)\n",
    "\n",
    "    # compute gradient by backpropagation\n",
    "    loss.backward()\n",
    "\n",
    "    # update parameters\n",
    "    optimizer_RNN_LSTM.step()\n",
    "\n",
    "    return output, loss.item()\n",
    "\n",
    "  \n",
    "def train_RNN_GRU(category_tensor, line_tensor):\n",
    "    hidden = rnn_gru.initHidden()\n",
    "\n",
    "    # reset gradient\n",
    "    rnn_gru.zero_grad()\n",
    "\n",
    "    for i in range(line_tensor.size()[0]):\n",
    "        output, hidden = rnn_gru(line_tensor[i], hidden)\n",
    "        \n",
    "    loss = criterion(output, category_tensor)\n",
    "\n",
    "    # compute gradient by backpropagation\n",
    "    loss.backward()\n",
    "\n",
    "    # update parameters\n",
    "    optimizer_RNN_GRU.step()\n",
    "\n",
    "    return output, loss.item()"
   ]
  },
  {
   "cell_type": "markdown",
   "metadata": {
    "id": "R9usmP9JUfyR"
   },
   "source": [
    "Now we just have to run that with a bunch of examples. Since the\n",
    "``train`` function returns both the output and loss we can print its\n",
    "guesses and also keep track of loss for plotting. Since there are 1000s\n",
    "of examples we print only every ``print_every`` examples, and take an\n",
    "average of the loss.\n",
    "\n",
    "\n"
   ]
  },
  {
   "cell_type": "code",
   "execution_count": null,
   "metadata": {
    "id": "KM7_NOZ-hy4r"
   },
   "outputs": [],
   "source": [
    "import time\n",
    "import math\n",
    "\n",
    "n_iters = 80000\n",
    "print_every = 5000\n",
    "plot_every = 1000\n",
    "\n",
    "# Keep track of losses for plotting\n",
    "train_loss_rnn = 0\n",
    "all_train_losses_rnn = []\n",
    "all_validation_losses_rnn = []\n",
    "\n",
    "train_loss_rnn_lstm = 0\n",
    "all_train_losses_rnn_lstm = []\n",
    "all_validation_losses_rnn_lstm = []\n",
    "\n",
    "train_loss_rnn_gru = 0\n",
    "all_train_losses_rnn_gru = []\n",
    "all_validation_losses_rnn_gru = []\n",
    "\n",
    "def timeSince(since):\n",
    "    now = time.time()\n",
    "    s = now - since\n",
    "    m = math.floor(s / 60)\n",
    "    s -= m * 60\n",
    "    return '%dm %ds' % (m, s)\n",
    "\n",
    "# Just return an output given a line\n",
    "def evaluate_RNN(line_tensor):\n",
    "    hidden_rnn = rnn.initHidden()\n",
    "\n",
    "    for i in range(line_tensor.size()[0]):\n",
    "        output_rnn, hidden_rnn = rnn(line_tensor[i], hidden_rnn)\n",
    "\n",
    "    return output_rnn\n",
    "\n",
    "# Train the RNN with Linear layer/cell\n",
    "def eval_dataset_RNN(dataset):\n",
    "    loss = 0\n",
    "    n_instances = 0\n",
    "    confusion = torch.zeros(n_categories, n_categories)\n",
    "    for category in all_categories:\n",
    "        category_tensor = Variable(torch.LongTensor([all_categories.index(category)]))\n",
    "        n_instances += len(dataset[category])\n",
    "        for line in dataset[category]:\n",
    "            line_tensor = Variable(lineToTensor(line))\n",
    "            output = evaluate_RNN(line_tensor)\n",
    "            loss += criterion(output, category_tensor)\n",
    "            guess, guess_i = categoryFromOutput(output)\n",
    "            category_i = all_categories.index(category)\n",
    "            confusion[category_i][guess_i] += 1\n",
    "\n",
    "    # Normalize by dividing every row by its sum\n",
    "    for i in range(n_categories):\n",
    "        confusion[i] = confusion[i] / confusion[i].sum()\n",
    "\n",
    "    return loss.item() / n_instances, confusion"
   ]
  },
  {
   "cell_type": "code",
   "execution_count": 85,
   "metadata": {
    "colab": {
     "base_uri": "https://localhost:8080/"
    },
    "id": "q-EUziAlUfyS",
    "outputId": "1a936d11-0add-456e-f40b-0244e37eabb2"
   },
   "outputs": [
    {
     "name": "stdout",
     "output_type": "stream",
     "text": [
      "\n",
      "Iter \tTrain% \tTime \t\tTrain_loss_rnn \tExample\n",
      "5000 \t6% \t(0m 18s) \t1.9554 \t\tSkala / Japanese âœ— (Czech)\n",
      "10000 \t12% \t(0m 40s) \t1.6548 \t\tSitta / Spanish âœ— (Czech)\n",
      "15000 \t18% \t(1m 2s) \t1.5018 \t\tSai / Chinese âœ— (Vietnamese)\n",
      "20000 \t25% \t(1m 24s) \t1.3423 \t\tCoelho / Portuguese âœ“\n",
      "25000 \t31% \t(1m 46s) \t1.3652 \t\tO'Connor / Irish âœ“\n",
      "30000 \t37% \t(2m 7s) \t1.2916 \t\tRaghailligh / Russian âœ— (Irish)\n",
      "35000 \t43% \t(2m 29s) \t1.2194 \t\tJacques / Portuguese âœ— (English)\n",
      "40000 \t50% \t(2m 52s) \t1.2296 \t\tKomiya / Japanese âœ“\n",
      "45000 \t56% \t(3m 13s) \t1.2144 \t\tAllard / English âœ— (French)\n",
      "50000 \t62% \t(3m 35s) \t1.1878 \t\tNapier / French âœ— (English)\n",
      "55000 \t68% \t(3m 56s) \t1.1707 \t\tShaw / Scottish âœ“\n",
      "60000 \t75% \t(4m 18s) \t1.1844 \t\tErizawa / Japanese âœ“\n",
      "65000 \t81% \t(4m 39s) \t1.1600 \t\tMuir / Scottish âœ“\n",
      "70000 \t87% \t(5m 1s) \t1.1632 \t\tValencia / Italian âœ— (Spanish)\n",
      "75000 \t93% \t(5m 23s) \t1.2258 \t\tMarek / Polish âœ“\n",
      "80000 \t100% \t(5m 44s) \t1.1439 \t\tCampos / Portuguese âœ“\n"
     ]
    }
   ],
   "source": [
    "# Train and validate with linear hidden units\n",
    "print('\\nIter \\tTrain% \\tTime \\t\\tTrain_loss_rnn \\tExample')\n",
    "start = time.time()\n",
    "for iter in range(1, n_iters + 1):\n",
    "    category, line, category_tensor, line_tensor = randomTrainingExample()\n",
    "    output, loss = train_RNN(category_tensor, line_tensor)\n",
    "    train_loss_rnn += loss\n",
    "\n",
    "    # Print iter number, train loss average, name and guess\n",
    "    if iter % print_every == 0:\n",
    "        guess, guess_i = categoryFromOutput(output)\n",
    "        correct = 'âœ“' if guess == category else 'âœ— (%s)' % category\n",
    "        print('%d \\t%d%% \\t(%s) \\t%.4f \\t\\t%s / %s %s' % (iter, iter / n_iters * 100, timeSince(start), train_loss_rnn / plot_every, line, guess, correct))\n",
    "\n",
    "    # Add current train loss average to list of losses\n",
    "    if iter % plot_every == 0:\n",
    "        all_train_losses_rnn.append(train_loss_rnn / plot_every)\n",
    "        train_loss_rnn = 0\n",
    "        \n",
    "    # Compute loss based on validation data\n",
    "    if iter % plot_every == 0:\n",
    "        average_validation_loss_rnn, _ = eval_dataset_RNN(validation_data)\n",
    "\n",
    "        # save model with best validation loss\n",
    "        if len(all_validation_losses_rnn) == 0 or average_validation_loss_rnn < min(all_validation_losses_rnn):\n",
    "            torch.save(rnn, 'char_rnn_classification_model.pt')\n",
    "        all_validation_losses_rnn.append(average_validation_loss_rnn)\n"
   ]
  },
  {
   "cell_type": "code",
   "execution_count": null,
   "metadata": {
    "colab": {
     "base_uri": "https://localhost:8080/"
    },
    "id": "kDOe-LeSa36z",
    "outputId": "5c04c192-4769-45e4-d6cb-2ce10f3de2d8"
   },
   "outputs": [
    {
     "name": "stdout",
     "output_type": "stream",
     "text": [
      "\n",
      "Iter \tTrain% \tTime \t\tTrain_loss_RNN_LSTM \tExample\n",
      "5000 \t6% \t(0m 49s) \t0.4158 \t\tMadaidhin / Irish âœ“\n"
     ]
    }
   ],
   "source": [
    "# Train and validate with LSTM hidden units \n",
    "# Just return an output given a line\n",
    "def evaluate_RNN_LSTM(line_tensor):\n",
    "    hidden_rnn_lstm = rnn_lstm.initHidden()\n",
    "    cell_rnn_lstm = rnn_lstm.initCell()\n",
    "\n",
    "    for i in range(line_tensor.size()[0]):\n",
    "        output_rnn_lstm, hidden_rnn_lstm, cell_rnn_lstm = rnn_lstm(line_tensor[i], hidden_rnn_lstm, cell_rnn_lstm)\n",
    "\n",
    "    return output_rnn_lstm\n",
    "\n",
    "\n",
    "def eval_dataset_RNN_LSTM(dataset):\n",
    "    loss = 0\n",
    "    n_instances = 0\n",
    "    confusion = torch.zeros(n_categories, n_categories)\n",
    "    for category in all_categories:\n",
    "        category_tensor = Variable(torch.LongTensor([all_categories.index(category)]))\n",
    "        n_instances += len(dataset[category])\n",
    "        for line in dataset[category]:\n",
    "            line_tensor = Variable(lineToTensor(line))\n",
    "            output = evaluate_RNN_LSTM(line_tensor)\n",
    "            loss += criterion(output, category_tensor)\n",
    "            guess, guess_i = categoryFromOutput(output)\n",
    "            category_i = all_categories.index(category)\n",
    "            confusion[category_i][guess_i] += 1\n",
    "\n",
    "    # Normalize by dividing every row by its sum\n",
    "    for i in range(n_categories):\n",
    "        confusion[i] = confusion[i] / confusion[i].sum()\n",
    "\n",
    "    return loss.item() / n_instances, confusion\n",
    "\n",
    "print('\\nIter \\tTrain% \\tTime \\t\\tTrain_loss_RNN_LSTM \\tExample')\n",
    "start = time.time()\n",
    "for iter in range(1, n_iters + 1):\n",
    "    category, line, category_tensor, line_tensor = randomTrainingExample()\n",
    "    output, loss = train_RNN_LSTM(category_tensor, line_tensor)\n",
    "    train_loss_rnn_lstm += loss\n",
    "\n",
    "    # Print iter number, train loss average, name and guess\n",
    "    if iter % print_every == 0:\n",
    "        guess, guess_i = categoryFromOutput(output)\n",
    "        correct = 'âœ“' if guess == category else 'âœ— (%s)' % category\n",
    "        print('%d \\t%d%% \\t(%s) \\t%.4f \\t\\t%s / %s %s' % (iter, iter / n_iters * 100, timeSince(start), train_loss_rnn_lstm / plot_every, line, guess, correct))\n",
    "\n",
    "    # Add current train loss average to list of losses\n",
    "    if iter % plot_every == 0:\n",
    "        all_train_losses_rnn_lstm.append(train_loss_rnn_lstm / plot_every)\n",
    "        train_loss_rnn_lstm = 0\n",
    "        \n",
    "    # Compute loss based on validation data\n",
    "    if iter % plot_every == 0:\n",
    "        average_validation_loss_rnn_lstm, _ = eval_dataset_RNN_LSTM(validation_data)\n",
    "\n",
    "        # save model with best validation loss\n",
    "        if len(all_validation_losses_rnn_lstm) == 0 or average_validation_loss_rnn_lstm < min(all_validation_losses_rnn_lstm):\n",
    "            torch.save(rnn_lstm, 'char_lstm_classification_model.pt')\n",
    "        all_validation_losses_rnn_lstm.append(average_validation_loss_rnn_lstm)"
   ]
  },
  {
   "cell_type": "code",
   "execution_count": null,
   "metadata": {
    "id": "Q6WyaeFpcGgG"
   },
   "outputs": [],
   "source": [
    "# Train and validate with GRU hidden units \n",
    "# Just return an output given a line\n",
    "def evaluate_RNN_GRU(line_tensor):\n",
    "    hidden_rnn_gru = rnn_lstm.initHidden()\n",
    "\n",
    "    for i in range(line_tensor.size()[0]):\n",
    "        output_rnn_gru, hidden_rnn_gru = rnn_gru(line_tensor[i], hidden_rnn_gru)\n",
    "\n",
    "    return output_rnn_gru\n",
    "\n",
    "\n",
    "def eval_dataset_RNN_GRU(dataset):\n",
    "    loss = 0\n",
    "    n_instances = 0\n",
    "    confusion = torch.zeros(n_categories, n_categories)\n",
    "    for category in all_categories:\n",
    "        category_tensor = Variable(torch.LongTensor([all_categories.index(category)]))\n",
    "        n_instances += len(dataset[category])\n",
    "        for line in dataset[category]:\n",
    "            line_tensor = Variable(lineToTensor(line))\n",
    "            output = evaluate_RNN_GRU(line_tensor)\n",
    "            loss += criterion(output, category_tensor)\n",
    "            guess, guess_i = categoryFromOutput(output)\n",
    "            category_i = all_categories.index(category)\n",
    "            confusion[category_i][guess_i] += 1\n",
    "\n",
    "    # Normalize by dividing every row by its sum\n",
    "    for i in range(n_categories):\n",
    "        confusion[i] = confusion[i] / confusion[i].sum()\n",
    "\n",
    "    return loss.item() / n_instances, confusion\n",
    "\n",
    "print('\\nIter \\tTrain% \\tTime \\t\\tTrain_loss_GRU \\tExample')\n",
    "start = time.time()\n",
    "for iter in range(1, n_iters + 1):\n",
    "    category, line, category_tensor, line_tensor = randomTrainingExample()\n",
    "    output, loss = train_RNN_GRU(category_tensor, line_tensor)\n",
    "    train_loss_rnn_gru += loss\n",
    "\n",
    "    # Print iter number, train loss average, name and guess\n",
    "    if iter % print_every == 0:\n",
    "        guess, guess_i = categoryFromOutput(output)\n",
    "        correct = 'âœ“' if guess == category else 'âœ— (%s)' % category\n",
    "        print('%d \\t%d%% \\t(%s) \\t%.4f \\t\\t%s / %s %s' % (iter, iter / n_iters * 100, timeSince(start), train_loss_rnn_gru / plot_every, line, guess, correct))\n",
    "\n",
    "    # Add current train loss average to list of losses\n",
    "    if iter % plot_every == 0:\n",
    "        all_train_losses_rnn_gru.append(train_loss_rnn_gru / plot_every)\n",
    "        train_loss_rnn_gru = 0\n",
    "        \n",
    "    # Compute loss based on validation data\n",
    "    if iter % plot_every == 0:\n",
    "        average_validation_loss_rnn_gru, _ = eval_dataset_RNN_GRU(validation_data)\n",
    "\n",
    "        # save model with best validation loss\n",
    "        if len(all_validation_losses_rnn_gru) == 0 or average_validation_loss_rnn_gru < min(all_validation_losses_rnn_gru):\n",
    "            torch.save(rnn_gru, 'char_gru_classification_model.pt')\n",
    "        all_validation_losses_rnn_gru.append(average_validation_loss_rnn_gru)"
   ]
  },
  {
   "cell_type": "markdown",
   "metadata": {
    "id": "3mFqhbXRUfyU"
   },
   "source": [
    "Plotting the Results\n",
    "--------------------\n",
    "\n",
    "Plotting the historical loss from ``all_losses`` shows the network\n",
    "learning:\n",
    "\n",
    "\n"
   ]
  },
  {
   "cell_type": "code",
   "execution_count": 90,
   "metadata": {
    "colab": {
     "base_uri": "https://localhost:8080/",
     "height": 606
    },
    "id": "qdcD6MmgUfyV",
    "outputId": "22feba21-3204-4e8d-d6f2-a36aa973e856"
   },
   "outputs": [
    {
     "name": "stdout",
     "output_type": "stream",
     "text": [
      "[]\n"
     ]
    },
    {
     "data": {
      "text/plain": [
       "<matplotlib.legend.Legend at 0x7f1f93de5b38>"
      ]
     },
     "execution_count": 90,
     "metadata": {
      "tags": []
     },
     "output_type": "execute_result"
    },
    {
     "data": {
      "image/png": "[encoded data removed]",
      "text/plain": [
       "<Figure size 432x288 with 1 Axes>"
      ]
     },
     "metadata": {
      "needs_background": "light",
      "tags": []
     },
     "output_type": "display_data"
    },
    {
     "data": {
      "image/png": "[encoded data removed]",
      "text/plain": [
       "<Figure size 432x288 with 1 Axes>"
      ]
     },
     "metadata": {
      "needs_background": "light",
      "tags": []
     },
     "output_type": "display_data"
    }
   ],
   "source": [
    "import matplotlib.pyplot as plt\n",
    "import matplotlib.ticker as ticker\n",
    "\n",
    "plt.figure()\n",
    "plt.plot(all_train_losses_rnn, label='Linear')\n",
    "plt.plot(all_train_losses_rnn_lstm, label='LSTM')\n",
    "plt.plot(all_train_losses_rnn_gru, label='GRU')\n",
    "plt.title('Classifying names with a character-level RNN (Train Loss)')\n",
    "plt.ylabel('Negative Log Likelihood')\n",
    "plt.xlabel('# of 1000 iterations')\n",
    "plt.legend(['Linear', 'LSTM', 'GRU'], loc='upper right')\n",
    "\n",
    "plt.figure()\n",
    "plt.plot(all_validation_losses_rnn, label='Linear')\n",
    "plt.plot(all_validation_losses_rnn_lstm, label='LSTM')\n",
    "plt.plot(all_validation_losses_rnn_gru, label='GRU')\n",
    "plt.title('Classifying names with a character-level RNN (Validation Loss)')\n",
    "plt.ylabel('Negative Log Likelihood')\n",
    "plt.xlabel('# of 1000 iterations')\n",
    "plt.legend(['Linear', 'LSTM', 'GRU'], loc='upper right')\n"
   ]
  },
  {
   "cell_type": "markdown",
   "metadata": {
    "id": "rs5yHF_cUfyY"
   },
   "source": [
    "Evaluating the Results\n",
    "======================\n",
    "\n",
    "To see how well the network performs on different categories, we will\n",
    "create a confusion matrix, indicating for every actual language (rows)\n",
    "which language the network guesses (columns). To calculate the confusion\n",
    "matrix a bunch of samples are run through the network with\n",
    "``evaluate()``, which is the same as ``train()`` minus the backprop.\n",
    "\n",
    "\n"
   ]
  },
  {
   "cell_type": "code",
   "execution_count": 74,
   "metadata": {
    "colab": {
     "base_uri": "https://localhost:8080/",
     "height": 977
    },
    "id": "El-a2qJvUfyZ",
    "outputId": "4d87636c-d4b2-48d5-d554-2d7a06985d62"
   },
   "outputs": [
    {
     "name": "stdout",
     "output_type": "stream",
     "text": [
      "Average test loss RNN: 1.2657235185927607\n",
      "Average test loss LSTM: 2.9004231662362545\n",
      "Average test loss GRU: 2.9058800061437853\n"
     ]
    },
    {
     "data": {
      "image/png": "[encoded data removed]",
      "text/plain": [
       "<Figure size 432x288 with 2 Axes>"
      ]
     },
     "metadata": {
      "needs_background": "light",
      "tags": []
     },
     "output_type": "display_data"
    },
    {
     "data": {
      "image/png": "[encoded data removed]",
      "text/plain": [
       "<Figure size 432x288 with 2 Axes>"
      ]
     },
     "metadata": {
      "needs_background": "light",
      "tags": []
     },
     "output_type": "display_data"
    },
    {
     "data": {
      "image/png": "[encoded data removed]",
      "text/plain": [
       "<Figure size 432x288 with 2 Axes>"
      ]
     },
     "metadata": {
      "needs_background": "light",
      "tags": []
     },
     "output_type": "display_data"
    }
   ],
   "source": [
    "# evaluate on test set and display confusion matrix\n",
    "rnn = torch.load('char_rnn_classification_model.pt')\n",
    "rnn_lstm = torch.load('char_lstm_classification_model.pt')\n",
    "rnn_gru = torch.load('char_gru_classification_model.pt')\n",
    "\n",
    "average_test_loss_rnn, confusion_rnn = eval_dataset_RNN(test_data)\n",
    "average_test_loss_rnn_lstm, confusion_rnn_lstm = eval_dataset_RNN_LSTM(test_data)\n",
    "average_test_loss_rnn_gru, confusion_rnn_gru = eval_dataset_RNN_GRU(test_data)\n",
    "\n",
    "print('Average test loss RNN: ' + str(average_test_loss_rnn))\n",
    "print('Average test loss LSTM: ' + str(average_test_loss_rnn_lstm))\n",
    "print('Average test loss GRU: ' + str(average_test_loss_rnn_gru))\n",
    "\n",
    "# Set up plot\n",
    "fig_rnn = plt.figure()\n",
    "ax_rnn = fig_rnn.add_subplot(111)\n",
    "cax_rnn = ax_rnn.matshow(confusion_rnn.numpy())\n",
    "fig_rnn.colorbar(cax)\n",
    "\n",
    "fig_lstm = plt.figure()\n",
    "ax_lstm = fig_lstm.add_subplot(111)\n",
    "cax_lstm = ax_lstm.matshow(confusion_rnn_lstm.numpy())\n",
    "fig_lstm.colorbar(cax_lstm)\n",
    "\n",
    "fig_gru = plt.figure()\n",
    "ax_gru = fig_gru.add_subplot(111)\n",
    "cax_gru = ax_gru.matshow(confusion_rnn_gru.numpy())\n",
    "fig_gru.colorbar(cax_gru)\n",
    "\n",
    "\n",
    "# Set up axes\n",
    "ax_rnn.set_xticklabels([''] + all_categories, rotation=90)\n",
    "ax_rnn.set_yticklabels([''] + all_categories)\n",
    "\n",
    "ax_lstm.set_xticklabels([''] + all_categories, rotation=90)\n",
    "ax_lstm.set_yticklabels([''] + all_categories)\n",
    "\n",
    "ax_gru.set_xticklabels([''] + all_categories, rotation=90)\n",
    "ax_gru.set_yticklabels([''] + all_categories)\n",
    "\n",
    "\n",
    "# Force label at every tick\n",
    "ax_rnn.xaxis.set_major_locator(ticker.MultipleLocator(1))\n",
    "ax_rnn.yaxis.set_major_locator(ticker.MultipleLocator(1))\n",
    "\n",
    "ax_lstm.xaxis.set_major_locator(ticker.MultipleLocator(1))\n",
    "ax_lstm.yaxis.set_major_locator(ticker.MultipleLocator(1))\n",
    "\n",
    "ax_gru.xaxis.set_major_locator(ticker.MultipleLocator(1))\n",
    "ax_gru.yaxis.set_major_locator(ticker.MultipleLocator(1))\n",
    "\n",
    "\n",
    "# sphinx_gallery_thumbnail_number = 2\n",
    "plt.show()"
   ]
  },
  {
   "cell_type": "markdown",
   "metadata": {
    "id": "DwU9mA1QUfyb"
   },
   "source": [
    "You can pick out bright spots off the main axis that show which\n",
    "languages it guesses incorrectly, e.g. Chinese for Korean, and Spanish\n",
    "for Italian. It seems to do very well with Greek, and very poorly with\n",
    "English (perhaps because of overlap with other languages).\n",
    "\n",
    "\n"
   ]
  },
  {
   "cell_type": "markdown",
   "metadata": {
    "id": "gWg7ObZAUfyc"
   },
   "source": [
    "Running on User Input\n",
    "---------------------\n",
    "\n",
    "\n"
   ]
  },
  {
   "cell_type": "code",
   "execution_count": 68,
   "metadata": {
    "colab": {
     "base_uri": "https://localhost:8080/"
    },
    "id": "bbWHJnCdUfyc",
    "outputId": "b39f9b3b-adbf-4954-baa9-634cc9f9677b"
   },
   "outputs": [
    {
     "name": "stdout",
     "output_type": "stream",
     "text": [
      "\n",
      "> Dovesky\n",
      "(-0.38) Russian\n",
      "(-1.60) Czech\n",
      "(-2.28) English\n",
      "\n",
      "> Jackson\n",
      "(-0.63) Scottish\n",
      "(-1.70) English\n",
      "(-2.16) Russian\n",
      "\n",
      "> Satoshi\n",
      "(-0.67) Arabic\n",
      "(-1.52) Japanese\n",
      "(-2.25) Polish\n",
      "\n",
      "> Dovesky\n",
      "(-2.80) Chinese\n",
      "(-2.82) French\n",
      "(-2.83) Italian\n",
      "\n",
      "> Jackson\n",
      "(-2.81) Dutch\n",
      "(-2.83) Spanish\n",
      "(-2.83) French\n",
      "\n",
      "> Satoshi\n",
      "(-2.79) Dutch\n",
      "(-2.81) Chinese\n",
      "(-2.83) Korean\n",
      "\n",
      "> Dovesky\n",
      "(-2.79) Greek\n",
      "(-2.81) Dutch\n",
      "(-2.82) Chinese\n",
      "\n",
      "> Jackson\n",
      "(-2.80) Greek\n",
      "(-2.81) Dutch\n",
      "(-2.82) Japanese\n",
      "\n",
      "> Satoshi\n",
      "(-2.78) English\n",
      "(-2.79) Greek\n",
      "(-2.80) Dutch\n"
     ]
    }
   ],
   "source": [
    "def predict(input_line, n_predictions=3, model='RNN'):\n",
    "    print('\\n> %s' % input_line)\n",
    "    with torch.no_grad():\n",
    "        if model == 'RNN':\n",
    "            output = evaluate_RNN(lineToTensor(input_line))\n",
    "        elif model == 'RNN_LSTM':\n",
    "            output = evaluate_RNN_LSTM(lineToTensor(input_line))\n",
    "        elif model == 'RNN_GRU':\n",
    "            output = evaluate_RNN_GRU(lineToTensor(input_line))\n",
    "\n",
    "        # Get top N categories\n",
    "        topv, topi = output.topk(n_predictions, 1, True)\n",
    "        predictions = []\n",
    "\n",
    "        for i in range(n_predictions):\n",
    "            value = topv[0][i].item()\n",
    "            category_index = topi[0][i].item()\n",
    "            print('(%.2f) %s' % (value, all_categories[category_index]))\n",
    "            predictions.append([value, all_categories[category_index]])\n",
    "\n",
    "predict('Dovesky', model='RNN')\n",
    "predict('Jackson', model='RNN')\n",
    "predict('Satoshi', model='RNN')\n",
    "\n",
    "predict('Dovesky', model='RNN_LSTM')\n",
    "predict('Jackson', model='RNN_LSTM')\n",
    "predict('Satoshi', model='RNN_LSTM')\n",
    "\n",
    "predict('Dovesky', model='RNN_GRU')\n",
    "predict('Jackson', model='RNN_GRU')\n",
    "predict('Satoshi', model='RNN_GRU')"
   ]
  },
  {
   "cell_type": "markdown",
   "metadata": {
    "id": "TWQ_XQrfUfyf"
   },
   "source": [
    "The final versions of the scripts `in the Practical PyTorch\n",
    "repo <https://github.com/spro/practical-pytorch/tree/master/char-rnn-classification>`__\n",
    "split the above code into a few files:\n",
    "\n",
    "-  ``data.py`` (loads files)\n",
    "-  ``model.py`` (defines the RNN)\n",
    "-  ``train.py`` (runs training)\n",
    "-  ``predict.py`` (runs ``predict()`` with command line arguments)\n",
    "-  ``server.py`` (serve prediction as a JSON API with bottle.py)\n",
    "\n",
    "Run ``train.py`` to train and save the network.\n",
    "\n",
    "Run ``predict.py`` with a name to view predictions:\n",
    "\n",
    "::\n",
    "\n",
    "    $ python predict.py Hazaki\n",
    "    (-0.42) Japanese\n",
    "    (-1.39) Polish\n",
    "    (-3.51) Czech\n",
    "\n",
    "Run ``server.py`` and visit http://localhost:5533/Yourname to get JSON\n",
    "output of predictions.\n",
    "\n",
    "\n"
   ]
  },
  {
   "cell_type": "markdown",
   "metadata": {
    "id": "-BX4vuLxUfyg"
   },
   "source": [
    "Exercises\n",
    "=========\n",
    "\n",
    "-  Try with a different dataset of line -> category, for example:\n",
    "\n",
    "   -  Any word -> language\n",
    "   -  First name -> gender\n",
    "   -  Character name -> writer\n",
    "   -  Page title -> blog or subreddit\n",
    "\n",
    "-  Get better results with a bigger and/or better shaped network\n",
    "\n",
    "   -  Add more linear layers\n",
    "   -  Try the ``nn.LSTM`` and ``nn.GRU`` layers\n",
    "   -  Combine multiple of these RNNs as a higher level network\n",
    "\n",
    "\n"
   ]
  },
  {
   "cell_type": "code",
   "execution_count": null,
   "metadata": {
    "id": "Pky-Ihc7eDVx"
   },
   "outputs": [],
   "source": []
  }
 ],
 "metadata": {
  "accelerator": "GPU",
  "colab": {
   "collapsed_sections": [],
   "machine_shape": "hm",
   "name": "cs480_fall20_asst5_char_rnn_classification.ipynb",
   "provenance": []
  },
  "kernelspec": {
   "display_name": "Python 3 (ipykernel)",
   "language": "python",
   "name": "python3"
  },
  "language_info": {
   "codemirror_mode": {
    "name": "ipython",
    "version": 3
   },
   "file_extension": ".py",
   "mimetype": "text/x-python",
   "name": "python",
   "nbconvert_exporter": "python",
   "pygments_lexer": "ipython3",
   "version": "3.7.16"
  }
 },
 "nbformat": 4,
 "nbformat_minor": 1
}
